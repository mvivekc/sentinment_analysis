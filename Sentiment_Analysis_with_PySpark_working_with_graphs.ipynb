{
  "nbformat": 4,
  "nbformat_minor": 0,
  "metadata": {
    "colab": {
      "name": "Sentiment Analysis with PySpark_working_with_graphs.ipynb",
      "provenance": [],
      "collapsed_sections": [],
      "include_colab_link": true
    },
    "kernelspec": {
      "name": "python2",
      "display_name": "Python 2"
    },
    "accelerator": "GPU"
  },
  "cells": [
    {
      "cell_type": "markdown",
      "metadata": {
        "id": "view-in-github",
        "colab_type": "text"
      },
      "source": [
        "<a href=\"https://colab.research.google.com/github/mvivekc/sentinment_analysis/blob/master/Sentiment_Analysis_with_PySpark_working_with_graphs.ipynb\" target=\"_parent\"><img src=\"https://colab.research.google.com/assets/colab-badge.svg\" alt=\"Open In Colab\"/></a>"
      ]
    },
    {
      "cell_type": "markdown",
      "metadata": {
        "id": "u7PJSIcRh8Sk",
        "colab_type": "text"
      },
      "source": [
        "# Sentiment Analysis with Pyspark"
      ]
    },
    {
      "cell_type": "markdown",
      "metadata": {
        "id": "QNpbFhbvh8Sn",
        "colab_type": "text"
      },
      "source": [
        "This project is inspired from a medium article [sentiment-analysis-with-pyspark](https://towardsdatascience.com/sentiment-analysis-with-pyspark-bc8e83f80c35). \n",
        "\n",
        "Pandas and Scikit-Learn is enough to handle processing of small data but for big data (in the scale of petabytes), we need advanced tools such as Pyspark.\n"
      ]
    },
    {
      "cell_type": "markdown",
      "metadata": {
        "id": "KRMBsrbnh8Sp",
        "colab_type": "text"
      },
      "source": [
        "Pyspark can process data with distributed computing framework hence, you can efficiently implement the task for large data sets.\n",
        "\n",
        "Spark API is available in multiple programming languages (Scala, Java, Python and R)."
      ]
    },
    {
      "cell_type": "markdown",
      "metadata": {
        "id": "ILZs6FChh8Su",
        "colab_type": "text"
      },
      "source": [
        "To use Pyspark in Jupyter Notebook, we use a package called Findspark to make a Spark Context available in your Jupyter Notebook. "
      ]
    },
    {
      "cell_type": "code",
      "metadata": {
        "id": "7MY7Kef7ib1t",
        "colab_type": "code",
        "colab": {}
      },
      "source": [
        "!apt-get install openjdk-8-jdk-headless -qq > /dev/null\n",
        "!wget -q https://ftp.heanet.ie/mirrors/www.apache.org/dist/spark/spark-2.4.1/spark-2.4.1-bin-hadoop2.7.tgz\n",
        "!tar xf spark-2.4.1-bin-hadoop2.7.tgz\n",
        "!pip install -q findspark"
      ],
      "execution_count": 0,
      "outputs": []
    },
    {
      "cell_type": "markdown",
      "metadata": {
        "id": "YU4faZK4hVii",
        "colab_type": "text"
      },
      "source": [
        "Check if java is installed and also get the version of java currently running."
      ]
    },
    {
      "cell_type": "code",
      "metadata": {
        "id": "Y6xjWqmQ4Dja",
        "colab_type": "code",
        "outputId": "881a123e-635b-47c7-806a-d46f7980a342",
        "colab": {
          "base_uri": "https://localhost:8080/",
          "height": 88
        }
      },
      "source": [
        "!java --version"
      ],
      "execution_count": 0,
      "outputs": [
        {
          "output_type": "stream",
          "text": [
            "openjdk 10.0.2 2018-07-17\n",
            "OpenJDK Runtime Environment (build 10.0.2+13-Ubuntu-1ubuntu0.18.04.4)\n",
            "OpenJDK 64-Bit Server VM (build 10.0.2+13-Ubuntu-1ubuntu0.18.04.4, mixed mode)\n"
          ],
          "name": "stdout"
        }
      ]
    },
    {
      "cell_type": "markdown",
      "metadata": {
        "id": "k2g7oie7hcRa",
        "colab_type": "text"
      },
      "source": [
        "Lets set java runtime variables for hadoop installation to start using the correct java instance"
      ]
    },
    {
      "cell_type": "code",
      "metadata": {
        "id": "5A2nDGG1CZX_",
        "colab_type": "code",
        "colab": {}
      },
      "source": [
        "import os\n",
        "os.environ[\"JAVA_HOME\"] = \"/usr/lib/jvm/java-8-openjdk-amd64\"\n",
        "os.environ[\"SPARK_HOME\"] = \"/content/spark-2.4.0-bin-hadoop2.7\""
      ],
      "execution_count": 0,
      "outputs": []
    },
    {
      "cell_type": "markdown",
      "metadata": {
        "id": "ddrZ5neIhiF3",
        "colab_type": "text"
      },
      "source": [
        "Intitiating pyspark and finding the respective configuration using findspark"
      ]
    },
    {
      "cell_type": "code",
      "metadata": {
        "id": "d5Ef_rbRh8Sw",
        "colab_type": "code",
        "outputId": "044898a6-f075-4f55-97d7-6643905b53e3",
        "colab": {
          "base_uri": "https://localhost:8080/",
          "height": 373
        }
      },
      "source": [
        "import findspark\n",
        "findspark.init()\n",
        "import pyspark as ps\n",
        "import warnings\n",
        "from pyspark.sql import SQLContext"
      ],
      "execution_count": 0,
      "outputs": [
        {
          "output_type": "error",
          "ename": "IndexError",
          "evalue": "ignored",
          "traceback": [
            "\u001b[0;31m\u001b[0m",
            "\u001b[0;31mIndexError\u001b[0mTraceback (most recent call last)",
            "\u001b[0;32m<ipython-input-6-fafc45d8c58f>\u001b[0m in \u001b[0;36m<module>\u001b[0;34m()\u001b[0m\n\u001b[1;32m      1\u001b[0m \u001b[0;32mimport\u001b[0m \u001b[0mfindspark\u001b[0m\u001b[0;34m\u001b[0m\u001b[0m\n\u001b[0;32m----> 2\u001b[0;31m \u001b[0mfindspark\u001b[0m\u001b[0;34m.\u001b[0m\u001b[0minit\u001b[0m\u001b[0;34m(\u001b[0m\u001b[0;34m)\u001b[0m\u001b[0;34m\u001b[0m\u001b[0m\n\u001b[0m\u001b[1;32m      3\u001b[0m \u001b[0;32mimport\u001b[0m \u001b[0mpyspark\u001b[0m \u001b[0;32mas\u001b[0m \u001b[0mps\u001b[0m\u001b[0;34m\u001b[0m\u001b[0m\n\u001b[1;32m      4\u001b[0m \u001b[0;32mimport\u001b[0m \u001b[0mwarnings\u001b[0m\u001b[0;34m\u001b[0m\u001b[0m\n\u001b[1;32m      5\u001b[0m \u001b[0;32mfrom\u001b[0m \u001b[0mpyspark\u001b[0m\u001b[0;34m.\u001b[0m\u001b[0msql\u001b[0m \u001b[0;32mimport\u001b[0m \u001b[0mSQLContext\u001b[0m\u001b[0;34m\u001b[0m\u001b[0m\n",
            "\u001b[0;32m/usr/local/lib/python2.7/dist-packages/findspark.pyc\u001b[0m in \u001b[0;36minit\u001b[0;34m(spark_home, python_path, edit_rc, edit_profile)\u001b[0m\n\u001b[1;32m    133\u001b[0m     \u001b[0;31m# add pyspark to sys.path\u001b[0m\u001b[0;34m\u001b[0m\u001b[0;34m\u001b[0m\u001b[0m\n\u001b[1;32m    134\u001b[0m     \u001b[0mspark_python\u001b[0m \u001b[0;34m=\u001b[0m \u001b[0mos\u001b[0m\u001b[0;34m.\u001b[0m\u001b[0mpath\u001b[0m\u001b[0;34m.\u001b[0m\u001b[0mjoin\u001b[0m\u001b[0;34m(\u001b[0m\u001b[0mspark_home\u001b[0m\u001b[0;34m,\u001b[0m \u001b[0;34m'python'\u001b[0m\u001b[0;34m)\u001b[0m\u001b[0;34m\u001b[0m\u001b[0m\n\u001b[0;32m--> 135\u001b[0;31m     \u001b[0mpy4j\u001b[0m \u001b[0;34m=\u001b[0m \u001b[0mglob\u001b[0m\u001b[0;34m(\u001b[0m\u001b[0mos\u001b[0m\u001b[0;34m.\u001b[0m\u001b[0mpath\u001b[0m\u001b[0;34m.\u001b[0m\u001b[0mjoin\u001b[0m\u001b[0;34m(\u001b[0m\u001b[0mspark_python\u001b[0m\u001b[0;34m,\u001b[0m \u001b[0;34m'lib'\u001b[0m\u001b[0;34m,\u001b[0m \u001b[0;34m'py4j-*.zip'\u001b[0m\u001b[0;34m)\u001b[0m\u001b[0;34m)\u001b[0m\u001b[0;34m[\u001b[0m\u001b[0;36m0\u001b[0m\u001b[0;34m]\u001b[0m\u001b[0;34m\u001b[0m\u001b[0m\n\u001b[0m\u001b[1;32m    136\u001b[0m     \u001b[0msys\u001b[0m\u001b[0;34m.\u001b[0m\u001b[0mpath\u001b[0m\u001b[0;34m[\u001b[0m\u001b[0;34m:\u001b[0m\u001b[0;36m0\u001b[0m\u001b[0;34m]\u001b[0m \u001b[0;34m=\u001b[0m \u001b[0;34m[\u001b[0m\u001b[0mspark_python\u001b[0m\u001b[0;34m,\u001b[0m \u001b[0mpy4j\u001b[0m\u001b[0;34m]\u001b[0m\u001b[0;34m\u001b[0m\u001b[0m\n\u001b[1;32m    137\u001b[0m \u001b[0;34m\u001b[0m\u001b[0m\n",
            "\u001b[0;31mIndexError\u001b[0m: list index out of range"
          ]
        }
      ]
    },
    {
      "cell_type": "code",
      "metadata": {
        "id": "QNRRJtj63pW5",
        "colab_type": "code",
        "colab": {}
      },
      "source": [
        "import numpy as np\n",
        "import pandas as pd\n",
        "from pandas import DataFrame\n",
        "from pandas import Series"
      ],
      "execution_count": 0,
      "outputs": []
    },
    {
      "cell_type": "markdown",
      "metadata": {
        "id": "cCslsbIgh8S1",
        "colab_type": "text"
      },
      "source": [
        "First step in any Apache programming is to create a SparkContext. SparkContext is needed when we want to execute operations in a cluster. SparkContext tells Spark how and where to access a cluster. It is first step to connect with Apache Cluster. "
      ]
    },
    {
      "cell_type": "code",
      "metadata": {
        "id": "Vsw_qjqvh8S2",
        "colab_type": "code",
        "outputId": "dd277839-7a76-483e-fb75-66504890cd13",
        "colab": {
          "base_uri": "https://localhost:8080/",
          "height": 34
        }
      },
      "source": [
        "try:\n",
        "    # create SparkContext on all CPUs available: in my case I have 4 CPUs on my laptop\n",
        "    sc = ps.SparkContext('local')\n",
        "    sqlContext = SQLContext(sc)\n",
        "    print(\"Just created a SparkContext\")\n",
        "except ValueError:\n",
        "    warnings.warn(\"SparkContext already exists in this scope\")"
      ],
      "execution_count": 0,
      "outputs": [
        {
          "output_type": "stream",
          "text": [
            "Just created a SparkContext\n"
          ],
          "name": "stdout"
        }
      ]
    },
    {
      "cell_type": "code",
      "metadata": {
        "id": "S6py2_Zrh8S8",
        "colab_type": "code",
        "outputId": "59e026db-0f5a-481c-e0ad-214163ce8c3a",
        "colab": {
          "base_uri": "https://localhost:8080/",
          "height": 34
        }
      },
      "source": [
        "sc.master"
      ],
      "execution_count": 0,
      "outputs": [
        {
          "output_type": "execute_result",
          "data": {
            "text/plain": [
              "u'local'"
            ]
          },
          "metadata": {
            "tags": []
          },
          "execution_count": 6
        }
      ]
    },
    {
      "cell_type": "code",
      "metadata": {
        "id": "DKRtyKwpGcUk",
        "colab_type": "code",
        "outputId": "fc5825b7-b0f0-4e59-e818-f0493e4b8f51",
        "colab": {
          "base_uri": "https://localhost:8080/",
          "height": 122
        }
      },
      "source": [
        "from google.colab import drive\n",
        "drive.mount('/content/drive')"
      ],
      "execution_count": 0,
      "outputs": [
        {
          "output_type": "stream",
          "text": [
            "Go to this URL in a browser: https://accounts.google.com/o/oauth2/auth?client_id=947318989803-6bn6qk8qdgf4n4g3pfee6491hc0brc4i.apps.googleusercontent.com&redirect_uri=urn%3Aietf%3Awg%3Aoauth%3A2.0%3Aoob&scope=email%20https%3A%2F%2Fwww.googleapis.com%2Fauth%2Fdocs.test%20https%3A%2F%2Fwww.googleapis.com%2Fauth%2Fdrive%20https%3A%2F%2Fwww.googleapis.com%2Fauth%2Fdrive.photos.readonly%20https%3A%2F%2Fwww.googleapis.com%2Fauth%2Fpeopleapi.readonly&response_type=code\n",
            "\n",
            "Enter your authorization code:\n",
            "··········\n",
            "Mounted at /content/drive\n"
          ],
          "name": "stdout"
        }
      ]
    },
    {
      "cell_type": "code",
      "metadata": {
        "id": "v4dEgaNyGpnV",
        "colab_type": "code",
        "outputId": "f1e19c28-4b2b-421c-c521-f41a890f23aa",
        "colab": {
          "base_uri": "https://localhost:8080/",
          "height": 34
        }
      },
      "source": [
        "!ls \"/content/drive/My Drive/ml_learning/cloud\""
      ],
      "execution_count": 0,
      "outputs": [
        {
          "output_type": "stream",
          "text": [
            "testdata.manual.2009.06.14.csv\ttraining.1600000.processed.noemoticon.csv\n"
          ],
          "name": "stdout"
        }
      ]
    },
    {
      "cell_type": "markdown",
      "metadata": {
        "id": "BrNziVxuh8TA",
        "colab_type": "text"
      },
      "source": [
        "The dataset I'll use for this post is annotated Tweets from \"Sentiment140\". It originated from a Stanford research project, and I used this dataset for my previous series of Twitter sentiment analysis. Since I already cleaned the tweets during the process of my previous project, I will use pre-cleaned tweets. If you want to know more in detail about the cleaning process I took, you can check my previous post: \"Another Twitter sentiment analysis with Python-Part 2\"\n",
        "https://towardsdatascience.com/another-twitter-sentiment-analysis-with-python-part-2-333514854913"
      ]
    },
    {
      "cell_type": "code",
      "metadata": {
        "id": "jdFv9cp8ay8H",
        "colab_type": "code",
        "colab": {}
      },
      "source": [
        "root_folder = '/content/drive/My Drive/ml_learning/cloud/'\n",
        "filename = 'training.1600000.processed.noemoticon.csv'"
      ],
      "execution_count": 0,
      "outputs": []
    },
    {
      "cell_type": "code",
      "metadata": {
        "id": "prQEdb5Xh8TB",
        "colab_type": "code",
        "colab": {}
      },
      "source": [
        "df = sqlContext.read.format('com.databricks.spark.csv').options(inferschema='true').load(root_folder+filename)"
      ],
      "execution_count": 0,
      "outputs": []
    },
    {
      "cell_type": "code",
      "metadata": {
        "id": "TkB7xRtNh8TF",
        "colab_type": "code",
        "outputId": "d08e8d2c-7f32-4d60-eb3f-cc10ad4c04e7",
        "colab": {
          "base_uri": "https://localhost:8080/",
          "height": 34
        }
      },
      "source": [
        "type(df)"
      ],
      "execution_count": 0,
      "outputs": [
        {
          "output_type": "execute_result",
          "data": {
            "text/plain": [
              "pyspark.sql.dataframe.DataFrame"
            ]
          },
          "metadata": {
            "tags": []
          },
          "execution_count": 13
        }
      ]
    },
    {
      "cell_type": "code",
      "metadata": {
        "scrolled": true,
        "id": "jfXhG-jMh8TJ",
        "colab_type": "code",
        "outputId": "aeb3b3cf-d6ff-4c21-cc38-3a90565e2dbc",
        "colab": {
          "base_uri": "https://localhost:8080/",
          "height": 204
        }
      },
      "source": [
        "df.show(5)"
      ],
      "execution_count": 0,
      "outputs": [
        {
          "output_type": "stream",
          "text": [
            "+---+----------+--------------------+--------+---------------+--------------------+\n",
            "|_c0|       _c1|                 _c2|     _c3|            _c4|                 _c5|\n",
            "+---+----------+--------------------+--------+---------------+--------------------+\n",
            "|  0|1467810369|Mon Apr 06 22:19:...|NO_QUERY|_TheSpecialOne_|@switchfoot http:...|\n",
            "|  0|1467810672|Mon Apr 06 22:19:...|NO_QUERY|  scotthamilton|is upset that he ...|\n",
            "|  0|1467810917|Mon Apr 06 22:19:...|NO_QUERY|       mattycus|@Kenichan I dived...|\n",
            "|  0|1467811184|Mon Apr 06 22:19:...|NO_QUERY|        ElleCTF|my whole body fee...|\n",
            "|  0|1467811193|Mon Apr 06 22:19:...|NO_QUERY|         Karoli|@nationwideclass ...|\n",
            "+---+----------+--------------------+--------+---------------+--------------------+\n",
            "only showing top 5 rows\n",
            "\n"
          ],
          "name": "stdout"
        }
      ]
    },
    {
      "cell_type": "code",
      "metadata": {
        "id": "k7H0naqqxT3g",
        "colab_type": "code",
        "colab": {}
      },
      "source": [
        "text = \"_c5\"\n",
        "target = \"_c0\""
      ],
      "execution_count": 0,
      "outputs": []
    },
    {
      "cell_type": "code",
      "metadata": {
        "id": "18qlMGJOh8TN",
        "colab_type": "code",
        "colab": {}
      },
      "source": [
        "df = df.dropna()"
      ],
      "execution_count": 0,
      "outputs": []
    },
    {
      "cell_type": "code",
      "metadata": {
        "id": "jwiPP1cph8TP",
        "colab_type": "code",
        "colab": {}
      },
      "source": [
        "df.count()"
      ],
      "execution_count": 0,
      "outputs": []
    },
    {
      "cell_type": "markdown",
      "metadata": {
        "id": "q8BbT6Gjh8TS",
        "colab_type": "text"
      },
      "source": [
        "After successfully loading the data as Spark Dataframe, we can take a peek at the data by calling .show(), which is equivalent to Pandas .head(). After dropping NA, we have a bit less than 1.6 million Tweets. I will split this in three parts; training, validation, test. Since I have around 1.6 million entries, 1% each for validation and test set will be enough to test the models."
      ]
    },
    {
      "cell_type": "code",
      "metadata": {
        "id": "UC0MPg3ah8TT",
        "colab_type": "code",
        "colab": {}
      },
      "source": [
        "(train_set, val_set, test_set) = df.randomSplit([0.98, 0.01, 0.01], seed = 2000)"
      ],
      "execution_count": 0,
      "outputs": []
    },
    {
      "cell_type": "markdown",
      "metadata": {
        "id": "EqJkggGGh8TZ",
        "colab_type": "text"
      },
      "source": [
        "## HashingTF + IDF + Logistic Regression"
      ]
    },
    {
      "cell_type": "markdown",
      "metadata": {
        "id": "QHUPng0lh8TZ",
        "colab_type": "text"
      },
      "source": [
        "Through my previous attempt of sentiment analysis with Pandas and Scikit-Learn, I learned that TF-IDF with Logistic Regression is quite strong combination, and showed robust performance, as high as Word2Vec + Convolutional Neural Network model. So in this post, I will try to implement TF-IDF + Logistic Regression model with Pyspark."
      ]
    },
    {
      "cell_type": "code",
      "metadata": {
        "id": "m1aI9fXeh8Tb",
        "colab_type": "code",
        "colab": {}
      },
      "source": [
        "from pyspark.ml.feature import HashingTF, IDF, Tokenizer, CountVectorizer\n",
        "from pyspark.ml.feature import StringIndexer\n",
        "from pyspark.ml import Pipeline\n",
        "from pyspark.ml.classification import LogisticRegression\n",
        "from pyspark.ml.evaluation import BinaryClassificationEvaluator"
      ],
      "execution_count": 0,
      "outputs": []
    },
    {
      "cell_type": "code",
      "metadata": {
        "id": "0aFhKVIyh8Td",
        "colab_type": "code",
        "colab": {}
      },
      "source": [
        "from pyspark.ml.feature import HashingTF, IDF, Tokenizer\n",
        "from pyspark.ml.feature import StringIndexer\n",
        "from pyspark.ml import Pipeline\n",
        "\n",
        "tokenizer = Tokenizer(inputCol=text, outputCol=\"words\")\n",
        "hashtf = HashingTF(numFeatures=2**16, inputCol=\"words\", outputCol='tf')\n",
        "idf = IDF(inputCol='tf', outputCol=\"features\", minDocFreq=5) #minDocFreq: remove sparse terms\n",
        "label_stringIdx = StringIndexer(inputCol = target, outputCol = \"label\")\n",
        "pipeline = Pipeline(stages=[tokenizer, hashtf, idf, label_stringIdx])\n",
        "\n",
        "pipelineFit = pipeline.fit(train_set)\n",
        "train_df = pipelineFit.transform(train_set)\n",
        "val_df = pipelineFit.transform(val_set)\n",
        "train_df.show(5)"
      ],
      "execution_count": 0,
      "outputs": []
    },
    {
      "cell_type": "code",
      "metadata": {
        "id": "X234lwK6h8Th",
        "colab_type": "code",
        "colab": {}
      },
      "source": [
        "from pyspark.ml.classification import LogisticRegression\n",
        "lr = LogisticRegression(maxIter=100)\n",
        "lrModel = lr.fit(train_df)\n",
        "predictions = lrModel.transform(val_df)"
      ],
      "execution_count": 0,
      "outputs": []
    },
    {
      "cell_type": "code",
      "metadata": {
        "id": "_mPPQtzIh8Tk",
        "colab_type": "code",
        "colab": {}
      },
      "source": [
        "from pyspark.ml.evaluation import BinaryClassificationEvaluator\n",
        "evaluator = BinaryClassificationEvaluator(rawPredictionCol=\"rawPrediction\")\n",
        "evaluator.evaluate(predictions)"
      ],
      "execution_count": 0,
      "outputs": []
    },
    {
      "cell_type": "markdown",
      "metadata": {
        "id": "z3u9F-Jhh8Tn",
        "colab_type": "text"
      },
      "source": [
        "0.86! That looks good, maybe too good. Because I already tried the same combination of techniques in Pandas and SKLearn, I know that the result for unigram TF-IDF with Logistic Regression is around 80% accuracy. There can be some slight difference due to the detailed model parameters, but still this looks too good.\n",
        "\n",
        "And by looking at the Spark documentation I realised that what BinaryClassificationEvaluator evaluates is by default areaUnderROC. https://docs.databricks.com/spark/latest/mllib/binary-classification-mllib-pipelines.html"
      ]
    },
    {
      "cell_type": "markdown",
      "metadata": {
        "id": "zHIuZF8_h8Tp",
        "colab_type": "text"
      },
      "source": [
        "And for binary classification, Spark doesn't support accuracy as a metric. But I can still calculate accuracy by counting the number of predictions matching the label and dividing it by the total entries."
      ]
    },
    {
      "cell_type": "code",
      "metadata": {
        "id": "ZHJeGYgYh8Tq",
        "colab_type": "code",
        "colab": {}
      },
      "source": [
        "evaluator.getMetricName()"
      ],
      "execution_count": 0,
      "outputs": []
    },
    {
      "cell_type": "code",
      "metadata": {
        "id": "2QbGtAznh8Tu",
        "colab_type": "code",
        "colab": {}
      },
      "source": [
        "accuracy = predictions.filter(predictions.label == predictions.prediction).count() / float(val_set.count())\n",
        "accuracy"
      ],
      "execution_count": 0,
      "outputs": []
    },
    {
      "cell_type": "markdown",
      "metadata": {
        "id": "kuhH5Qsd3S21",
        "colab_type": "text"
      },
      "source": [
        "Now it looks more plausible, actually the accuracy is slightly lower than what I have seen from SKLearn's result.\n"
      ]
    },
    {
      "cell_type": "markdown",
      "metadata": {
        "id": "8N6f-s1RzdA0",
        "colab_type": "text"
      },
      "source": [
        "##Visualizations trials"
      ]
    },
    {
      "cell_type": "markdown",
      "metadata": {
        "id": "5GtZznW1zrlC",
        "colab_type": "text"
      },
      "source": [
        "Visualizations borrowed from the following sources [src1](https://www.tableau.com/solutions/workbook/provide-transparencies-progress-and-impact-programs),[src2](https://www.tableau.com/solutions/workbook/get-twitter-analytics-you-need-about-your-own-brand-or-build-interactive-viral-content)\n",
        "\n",
        "\n",
        "1.   Most used hashtags ( by count )\n",
        "2.   Area chart of no of tweets/day ( tweets with retweet count if available )\n",
        "3.   Most prolific tweeters \n",
        "4.   Colors word cloud of +/- tweets (positive showing green ; negative showing red)\n",
        "\n"
      ]
    },
    {
      "cell_type": "code",
      "metadata": {
        "id": "y4cLEAb7zHJH",
        "colab_type": "code",
        "colab": {}
      },
      "source": [
        "created_at = \"_c2\""
      ],
      "execution_count": 0,
      "outputs": []
    },
    {
      "cell_type": "code",
      "metadata": {
        "id": "WD3GBcrr1uro",
        "colab_type": "code",
        "outputId": "f48c073f-bb40-4e63-be24-00fa87e51bbb",
        "colab": {
          "base_uri": "https://localhost:8080/",
          "height": 204
        }
      },
      "source": [
        "df.show(5)"
      ],
      "execution_count": 0,
      "outputs": [
        {
          "output_type": "stream",
          "text": [
            "+---+----------+--------------------+--------+---------------+--------------------+\n",
            "|_c0|       _c1|                 _c2|     _c3|            _c4|                 _c5|\n",
            "+---+----------+--------------------+--------+---------------+--------------------+\n",
            "|  0|1467810369|Mon Apr 06 22:19:...|NO_QUERY|_TheSpecialOne_|@switchfoot http:...|\n",
            "|  0|1467810672|Mon Apr 06 22:19:...|NO_QUERY|  scotthamilton|is upset that he ...|\n",
            "|  0|1467810917|Mon Apr 06 22:19:...|NO_QUERY|       mattycus|@Kenichan I dived...|\n",
            "|  0|1467811184|Mon Apr 06 22:19:...|NO_QUERY|        ElleCTF|my whole body fee...|\n",
            "|  0|1467811193|Mon Apr 06 22:19:...|NO_QUERY|         Karoli|@nationwideclass ...|\n",
            "+---+----------+--------------------+--------+---------------+--------------------+\n",
            "only showing top 5 rows\n",
            "\n"
          ],
          "name": "stdout"
        }
      ]
    },
    {
      "cell_type": "code",
      "metadata": {
        "id": "d_mZTTy_1VU6",
        "colab_type": "code",
        "colab": {}
      },
      "source": [
        "def f(x):\n",
        "  return Series(dict(Number_of_tweets = x[\"_c5\"].count(), ))"
      ],
      "execution_count": 0,
      "outputs": []
    },
    {
      "cell_type": "code",
      "metadata": {
        "id": "v5E3N-GczANG",
        "colab_type": "code",
        "outputId": "1356afbb-c9b9-4328-f57d-5120788028c1",
        "colab": {
          "base_uri": "https://localhost:8080/",
          "height": 204
        }
      },
      "source": [
        "df.show(5)"
      ],
      "execution_count": 0,
      "outputs": [
        {
          "output_type": "stream",
          "text": [
            "+---+----------+--------------------+--------+---------------+--------------------+\n",
            "|_c0|       _c1|                 _c2|     _c3|            _c4|                 _c5|\n",
            "+---+----------+--------------------+--------+---------------+--------------------+\n",
            "|  0|1467810369|Mon Apr 06 22:19:...|NO_QUERY|_TheSpecialOne_|@switchfoot http:...|\n",
            "|  0|1467810672|Mon Apr 06 22:19:...|NO_QUERY|  scotthamilton|is upset that he ...|\n",
            "|  0|1467810917|Mon Apr 06 22:19:...|NO_QUERY|       mattycus|@Kenichan I dived...|\n",
            "|  0|1467811184|Mon Apr 06 22:19:...|NO_QUERY|        ElleCTF|my whole body fee...|\n",
            "|  0|1467811193|Mon Apr 06 22:19:...|NO_QUERY|         Karoli|@nationwideclass ...|\n",
            "+---+----------+--------------------+--------+---------------+--------------------+\n",
            "only showing top 5 rows\n",
            "\n"
          ],
          "name": "stdout"
        }
      ]
    },
    {
      "cell_type": "code",
      "metadata": {
        "id": "Jcz8T4YB8wDH",
        "colab_type": "code",
        "colab": {}
      },
      "source": [
        "pdf = df.toPandas()"
      ],
      "execution_count": 0,
      "outputs": []
    },
    {
      "cell_type": "code",
      "metadata": {
        "id": "ImCvSbQl9QX9",
        "colab_type": "code",
        "outputId": "c062af53-7692-4c0e-fdad-04614afd9272",
        "colab": {
          "base_uri": "https://localhost:8080/",
          "height": 51
        }
      },
      "source": [
        "print(type(pdf))\n",
        "print(type(df))"
      ],
      "execution_count": 0,
      "outputs": [
        {
          "output_type": "stream",
          "text": [
            "<class 'pandas.core.frame.DataFrame'>\n",
            "<class 'pyspark.sql.dataframe.DataFrame'>\n"
          ],
          "name": "stdout"
        }
      ]
    },
    {
      "cell_type": "code",
      "metadata": {
        "id": "YpcUo-xE--_i",
        "colab_type": "code",
        "outputId": "f3052853-49f4-400b-8722-d2a0dd73d04a",
        "colab": {
          "base_uri": "https://localhost:8080/",
          "height": 111
        }
      },
      "source": [
        "pdf.head(2)"
      ],
      "execution_count": 0,
      "outputs": [
        {
          "output_type": "execute_result",
          "data": {
            "text/html": [
              "<div>\n",
              "<style scoped>\n",
              "    .dataframe tbody tr th:only-of-type {\n",
              "        vertical-align: middle;\n",
              "    }\n",
              "\n",
              "    .dataframe tbody tr th {\n",
              "        vertical-align: top;\n",
              "    }\n",
              "\n",
              "    .dataframe thead th {\n",
              "        text-align: right;\n",
              "    }\n",
              "</style>\n",
              "<table border=\"1\" class=\"dataframe\">\n",
              "  <thead>\n",
              "    <tr style=\"text-align: right;\">\n",
              "      <th></th>\n",
              "      <th>_c0</th>\n",
              "      <th>_c1</th>\n",
              "      <th>_c2</th>\n",
              "      <th>_c3</th>\n",
              "      <th>_c4</th>\n",
              "      <th>_c5</th>\n",
              "    </tr>\n",
              "  </thead>\n",
              "  <tbody>\n",
              "    <tr>\n",
              "      <th>0</th>\n",
              "      <td>0</td>\n",
              "      <td>1467810369</td>\n",
              "      <td>Mon Apr 06 22:19:45 PDT 2009</td>\n",
              "      <td>NO_QUERY</td>\n",
              "      <td>_TheSpecialOne_</td>\n",
              "      <td>@switchfoot http://twitpic.com/2y1zl - Awww, t...</td>\n",
              "    </tr>\n",
              "    <tr>\n",
              "      <th>1</th>\n",
              "      <td>0</td>\n",
              "      <td>1467810672</td>\n",
              "      <td>Mon Apr 06 22:19:49 PDT 2009</td>\n",
              "      <td>NO_QUERY</td>\n",
              "      <td>scotthamilton</td>\n",
              "      <td>is upset that he can't update his Facebook by ...</td>\n",
              "    </tr>\n",
              "  </tbody>\n",
              "</table>\n",
              "</div>"
            ],
            "text/plain": [
              "   _c0         _c1                           _c2       _c3              _c4  \\\n",
              "0    0  1467810369  Mon Apr 06 22:19:45 PDT 2009  NO_QUERY  _TheSpecialOne_   \n",
              "1    0  1467810672  Mon Apr 06 22:19:49 PDT 2009  NO_QUERY    scotthamilton   \n",
              "\n",
              "                                                 _c5  \n",
              "0  @switchfoot http://twitpic.com/2y1zl - Awww, t...  \n",
              "1  is upset that he can't update his Facebook by ...  "
            ]
          },
          "metadata": {
            "tags": []
          },
          "execution_count": 24
        }
      ]
    },
    {
      "cell_type": "code",
      "metadata": {
        "id": "TbTJ7Af7_uu-",
        "colab_type": "code",
        "outputId": "d21e854a-defa-4767-de19-85f20673cd04",
        "colab": {
          "base_uri": "https://localhost:8080/",
          "height": 34
        }
      },
      "source": [
        "pdf.columns"
      ],
      "execution_count": 0,
      "outputs": [
        {
          "output_type": "execute_result",
          "data": {
            "text/plain": [
              "Index([u'_c0', u'_c1', u'_c2', u'_c3', u'_c4', u'_c5'], dtype='object')"
            ]
          },
          "metadata": {
            "tags": []
          },
          "execution_count": 28
        }
      ]
    },
    {
      "cell_type": "code",
      "metadata": {
        "id": "ypX-pIUC_zk3",
        "colab_type": "code",
        "outputId": "1ecef349-dc5e-40a3-a99d-bfecbde7996b",
        "colab": {
          "base_uri": "https://localhost:8080/",
          "height": 136
        }
      },
      "source": [
        "pdf.dtypes"
      ],
      "execution_count": 0,
      "outputs": [
        {
          "output_type": "execute_result",
          "data": {
            "text/plain": [
              "_c0     int32\n",
              "_c1     int64\n",
              "_c2    object\n",
              "_c3    object\n",
              "_c4    object\n",
              "_c5    object\n",
              "dtype: object"
            ]
          },
          "metadata": {
            "tags": []
          },
          "execution_count": 29
        }
      ]
    },
    {
      "cell_type": "code",
      "metadata": {
        "id": "152fD4g2_CqP",
        "colab_type": "code",
        "colab": {}
      },
      "source": [
        "pdf['created_at'] = pd.to_datetime(pdf[\"_c2\"])"
      ],
      "execution_count": 0,
      "outputs": []
    },
    {
      "cell_type": "code",
      "metadata": {
        "id": "axpmUPLoAcWz",
        "colab_type": "code",
        "outputId": "06615317-3428-4e6a-e3e1-96aaf633c68e",
        "colab": {
          "base_uri": "https://localhost:8080/",
          "height": 153
        }
      },
      "source": [
        "pdf.dtypes"
      ],
      "execution_count": 0,
      "outputs": [
        {
          "output_type": "execute_result",
          "data": {
            "text/plain": [
              "_c0                    int32\n",
              "_c1                    int64\n",
              "_c2                   object\n",
              "_c3                   object\n",
              "_c4                   object\n",
              "_c5                   object\n",
              "created_at    datetime64[ns]\n",
              "dtype: object"
            ]
          },
          "metadata": {
            "tags": []
          },
          "execution_count": 35
        }
      ]
    },
    {
      "cell_type": "code",
      "metadata": {
        "id": "_319ptPnAgio",
        "colab_type": "code",
        "outputId": "c81b2c79-8075-4e1f-dab9-379d8f22c762",
        "colab": {
          "base_uri": "https://localhost:8080/",
          "height": 142
        }
      },
      "source": [
        "pdf = pdf.set_index(['created_at'])\n",
        "pdf.head(2)"
      ],
      "execution_count": 0,
      "outputs": [
        {
          "output_type": "execute_result",
          "data": {
            "text/html": [
              "<div>\n",
              "<style scoped>\n",
              "    .dataframe tbody tr th:only-of-type {\n",
              "        vertical-align: middle;\n",
              "    }\n",
              "\n",
              "    .dataframe tbody tr th {\n",
              "        vertical-align: top;\n",
              "    }\n",
              "\n",
              "    .dataframe thead th {\n",
              "        text-align: right;\n",
              "    }\n",
              "</style>\n",
              "<table border=\"1\" class=\"dataframe\">\n",
              "  <thead>\n",
              "    <tr style=\"text-align: right;\">\n",
              "      <th></th>\n",
              "      <th>_c0</th>\n",
              "      <th>_c1</th>\n",
              "      <th>_c2</th>\n",
              "      <th>_c3</th>\n",
              "      <th>_c4</th>\n",
              "      <th>_c5</th>\n",
              "    </tr>\n",
              "    <tr>\n",
              "      <th>created_at</th>\n",
              "      <th></th>\n",
              "      <th></th>\n",
              "      <th></th>\n",
              "      <th></th>\n",
              "      <th></th>\n",
              "      <th></th>\n",
              "    </tr>\n",
              "  </thead>\n",
              "  <tbody>\n",
              "    <tr>\n",
              "      <th>2009-04-06 22:19:45</th>\n",
              "      <td>0</td>\n",
              "      <td>1467810369</td>\n",
              "      <td>Mon Apr 06 22:19:45 PDT 2009</td>\n",
              "      <td>NO_QUERY</td>\n",
              "      <td>_TheSpecialOne_</td>\n",
              "      <td>@switchfoot http://twitpic.com/2y1zl - Awww, t...</td>\n",
              "    </tr>\n",
              "    <tr>\n",
              "      <th>2009-04-06 22:19:49</th>\n",
              "      <td>0</td>\n",
              "      <td>1467810672</td>\n",
              "      <td>Mon Apr 06 22:19:49 PDT 2009</td>\n",
              "      <td>NO_QUERY</td>\n",
              "      <td>scotthamilton</td>\n",
              "      <td>is upset that he can't update his Facebook by ...</td>\n",
              "    </tr>\n",
              "  </tbody>\n",
              "</table>\n",
              "</div>"
            ],
            "text/plain": [
              "                     _c0         _c1                           _c2       _c3  \\\n",
              "created_at                                                                     \n",
              "2009-04-06 22:19:45    0  1467810369  Mon Apr 06 22:19:45 PDT 2009  NO_QUERY   \n",
              "2009-04-06 22:19:49    0  1467810672  Mon Apr 06 22:19:49 PDT 2009  NO_QUERY   \n",
              "\n",
              "                                 _c4  \\\n",
              "created_at                             \n",
              "2009-04-06 22:19:45  _TheSpecialOne_   \n",
              "2009-04-06 22:19:49    scotthamilton   \n",
              "\n",
              "                                                                   _c5  \n",
              "created_at                                                              \n",
              "2009-04-06 22:19:45  @switchfoot http://twitpic.com/2y1zl - Awww, t...  \n",
              "2009-04-06 22:19:49  is upset that he can't update his Facebook by ...  "
            ]
          },
          "metadata": {
            "tags": []
          },
          "execution_count": 36
        }
      ]
    },
    {
      "cell_type": "code",
      "metadata": {
        "id": "QQrbMpfm37Hi",
        "colab_type": "code",
        "outputId": "5ef0d5a7-42bd-4f74-fd7b-6112b794037c",
        "colab": {
          "base_uri": "https://localhost:8080/",
          "height": 221
        }
      },
      "source": [
        "daily_count = pdf.groupby(pdf.index.date).apply(f)\n",
        "print len(daily_count)\n",
        "daily_count.head(5)"
      ],
      "execution_count": 0,
      "outputs": [
        {
          "output_type": "stream",
          "text": [
            "48\n"
          ],
          "name": "stdout"
        },
        {
          "output_type": "execute_result",
          "data": {
            "text/html": [
              "<div>\n",
              "<style scoped>\n",
              "    .dataframe tbody tr th:only-of-type {\n",
              "        vertical-align: middle;\n",
              "    }\n",
              "\n",
              "    .dataframe tbody tr th {\n",
              "        vertical-align: top;\n",
              "    }\n",
              "\n",
              "    .dataframe thead th {\n",
              "        text-align: right;\n",
              "    }\n",
              "</style>\n",
              "<table border=\"1\" class=\"dataframe\">\n",
              "  <thead>\n",
              "    <tr style=\"text-align: right;\">\n",
              "      <th></th>\n",
              "      <th>Number_of_tweets</th>\n",
              "    </tr>\n",
              "  </thead>\n",
              "  <tbody>\n",
              "    <tr>\n",
              "      <th>2009-04-06</th>\n",
              "      <td>3360</td>\n",
              "    </tr>\n",
              "    <tr>\n",
              "      <th>2009-04-07</th>\n",
              "      <td>17311</td>\n",
              "    </tr>\n",
              "    <tr>\n",
              "      <th>2009-04-17</th>\n",
              "      <td>3084</td>\n",
              "    </tr>\n",
              "    <tr>\n",
              "      <th>2009-04-18</th>\n",
              "      <td>21754</td>\n",
              "    </tr>\n",
              "    <tr>\n",
              "      <th>2009-04-19</th>\n",
              "      <td>27469</td>\n",
              "    </tr>\n",
              "  </tbody>\n",
              "</table>\n",
              "</div>"
            ],
            "text/plain": [
              "            Number_of_tweets\n",
              "2009-04-06              3360\n",
              "2009-04-07             17311\n",
              "2009-04-17              3084\n",
              "2009-04-18             21754\n",
              "2009-04-19             27469"
            ]
          },
          "metadata": {
            "tags": []
          },
          "execution_count": 38
        }
      ]
    },
    {
      "cell_type": "code",
      "metadata": {
        "id": "SXhJdGRCCELa",
        "colab_type": "code",
        "outputId": "37399913-5f76-459a-d946-06a04ca5fef5",
        "colab": {
          "base_uri": "https://localhost:8080/",
          "height": 235
        }
      },
      "source": [
        "daily_count.index.name = 'date'\n",
        "daily_count.head(5)"
      ],
      "execution_count": 0,
      "outputs": [
        {
          "output_type": "execute_result",
          "data": {
            "text/html": [
              "<div>\n",
              "<style scoped>\n",
              "    .dataframe tbody tr th:only-of-type {\n",
              "        vertical-align: middle;\n",
              "    }\n",
              "\n",
              "    .dataframe tbody tr th {\n",
              "        vertical-align: top;\n",
              "    }\n",
              "\n",
              "    .dataframe thead th {\n",
              "        text-align: right;\n",
              "    }\n",
              "</style>\n",
              "<table border=\"1\" class=\"dataframe\">\n",
              "  <thead>\n",
              "    <tr style=\"text-align: right;\">\n",
              "      <th></th>\n",
              "      <th>Number_of_tweets</th>\n",
              "    </tr>\n",
              "    <tr>\n",
              "      <th>date</th>\n",
              "      <th></th>\n",
              "    </tr>\n",
              "  </thead>\n",
              "  <tbody>\n",
              "    <tr>\n",
              "      <th>2009-04-06</th>\n",
              "      <td>3360</td>\n",
              "    </tr>\n",
              "    <tr>\n",
              "      <th>2009-04-07</th>\n",
              "      <td>17311</td>\n",
              "    </tr>\n",
              "    <tr>\n",
              "      <th>2009-04-17</th>\n",
              "      <td>3084</td>\n",
              "    </tr>\n",
              "    <tr>\n",
              "      <th>2009-04-18</th>\n",
              "      <td>21754</td>\n",
              "    </tr>\n",
              "    <tr>\n",
              "      <th>2009-04-19</th>\n",
              "      <td>27469</td>\n",
              "    </tr>\n",
              "  </tbody>\n",
              "</table>\n",
              "</div>"
            ],
            "text/plain": [
              "            Number_of_tweets\n",
              "date                        \n",
              "2009-04-06              3360\n",
              "2009-04-07             17311\n",
              "2009-04-17              3084\n",
              "2009-04-18             21754\n",
              "2009-04-19             27469"
            ]
          },
          "metadata": {
            "tags": []
          },
          "execution_count": 39
        }
      ]
    },
    {
      "cell_type": "code",
      "metadata": {
        "id": "Y5Cyrxj9CNrm",
        "colab_type": "code",
        "outputId": "d1de2eba-8f1c-4df8-b0fe-48a31914c9bc",
        "colab": {
          "base_uri": "https://localhost:8080/",
          "height": 235
        }
      },
      "source": [
        "daily_count.tail(5)"
      ],
      "execution_count": 0,
      "outputs": [
        {
          "output_type": "execute_result",
          "data": {
            "text/html": [
              "<div>\n",
              "<style scoped>\n",
              "    .dataframe tbody tr th:only-of-type {\n",
              "        vertical-align: middle;\n",
              "    }\n",
              "\n",
              "    .dataframe tbody tr th {\n",
              "        vertical-align: top;\n",
              "    }\n",
              "\n",
              "    .dataframe thead th {\n",
              "        text-align: right;\n",
              "    }\n",
              "</style>\n",
              "<table border=\"1\" class=\"dataframe\">\n",
              "  <thead>\n",
              "    <tr style=\"text-align: right;\">\n",
              "      <th></th>\n",
              "      <th>Number_of_tweets</th>\n",
              "    </tr>\n",
              "    <tr>\n",
              "      <th>date</th>\n",
              "      <th></th>\n",
              "    </tr>\n",
              "  </thead>\n",
              "  <tbody>\n",
              "    <tr>\n",
              "      <th>2009-06-21</th>\n",
              "      <td>16360</td>\n",
              "    </tr>\n",
              "    <tr>\n",
              "      <th>2009-06-22</th>\n",
              "      <td>12009</td>\n",
              "    </tr>\n",
              "    <tr>\n",
              "      <th>2009-06-23</th>\n",
              "      <td>17002</td>\n",
              "    </tr>\n",
              "    <tr>\n",
              "      <th>2009-06-24</th>\n",
              "      <td>6299</td>\n",
              "    </tr>\n",
              "    <tr>\n",
              "      <th>2009-06-25</th>\n",
              "      <td>19694</td>\n",
              "    </tr>\n",
              "  </tbody>\n",
              "</table>\n",
              "</div>"
            ],
            "text/plain": [
              "            Number_of_tweets\n",
              "date                        \n",
              "2009-06-21             16360\n",
              "2009-06-22             12009\n",
              "2009-06-23             17002\n",
              "2009-06-24              6299\n",
              "2009-06-25             19694"
            ]
          },
          "metadata": {
            "tags": []
          },
          "execution_count": 41
        }
      ]
    },
    {
      "cell_type": "code",
      "metadata": {
        "id": "mpYcO6W7CRvZ",
        "colab_type": "code",
        "outputId": "601f0e97-e183-4a99-a743-c727ec54662c",
        "colab": {
          "base_uri": "https://localhost:8080/",
          "height": 34
        }
      },
      "source": [
        "daily_count.index.min()"
      ],
      "execution_count": 0,
      "outputs": [
        {
          "output_type": "execute_result",
          "data": {
            "text/plain": [
              "datetime.date(2009, 4, 6)"
            ]
          },
          "metadata": {
            "tags": []
          },
          "execution_count": 42
        }
      ]
    },
    {
      "cell_type": "code",
      "metadata": {
        "id": "c9rNp0BQCTbO",
        "colab_type": "code",
        "outputId": "8b5d1a06-dc56-45e6-d42a-e125f7964c2a",
        "colab": {
          "base_uri": "https://localhost:8080/",
          "height": 34
        }
      },
      "source": [
        "daily_count.index.max()"
      ],
      "execution_count": 0,
      "outputs": [
        {
          "output_type": "execute_result",
          "data": {
            "text/plain": [
              "datetime.date(2009, 6, 25)"
            ]
          },
          "metadata": {
            "tags": []
          },
          "execution_count": 43
        }
      ]
    },
    {
      "cell_type": "code",
      "metadata": {
        "id": "dOlGTr3xCvUK",
        "colab_type": "code",
        "outputId": "9e2bf35a-072d-4931-b46b-7335d27cac3c",
        "colab": {
          "base_uri": "https://localhost:8080/",
          "height": 34
        }
      },
      "source": [
        "import matplotlib as mpl\n",
        "import calendar\n",
        "from pylab import *\n",
        "import matplotlib.pyplot as plt\n",
        "import seaborn as sns\n",
        "print sns.__version__\n",
        "%matplotlib inline  "
      ],
      "execution_count": 0,
      "outputs": [
        {
          "output_type": "stream",
          "text": [
            "0.7.1\n"
          ],
          "name": "stdout"
        }
      ]
    },
    {
      "cell_type": "code",
      "metadata": {
        "id": "qRRqH7pMCYg2",
        "colab_type": "code",
        "outputId": "b4663f61-8626-44bd-cba6-f78aa6d9b9c5",
        "colab": {
          "base_uri": "https://localhost:8080/",
          "height": 309
        }
      },
      "source": [
        "daily_plot = daily_count['Number_of_tweets'].plot(kind='line', lw=1, alpha=0.75, legend=True, x_compat=True)\n",
        "\n",
        "daily_plot.set_xlabel('Month', weight='bold', labelpad=15)    #SET X-AXIS LABEL; ADD PADDING TO TOP OF LABEL\n",
        "daily_plot.set_ylabel('# Tweets (Messages)', weight='bold', labelpad=15) #SET Y-AXIS LABEL; ADD PADDING TO RIGHT OF LABEL\n",
        "\n",
        "xticks(fontsize = 9, rotation = -30, ha =\"left\")  #SET FONT PROPERTIES OF X-AXIS TICK LABELS\n",
        "yticks(fontsize = 9)                              #SET FONT PROPERTIES OF Y-AXIS TICK LABELS\n",
        "\n",
        "#http://matplotlib.org/users/legend_guide.html\n",
        "#http://nbviewer.ipython.org/gist/olgabot/5357268  ### LIST OF OPTIONS\n",
        "#legend(fontsize='x-small',loc=2,labelspacing=0.1, frameon=False)#.draggable()\n",
        "daily_plot.legend_ = None\n",
        "daily_plot.tick_params(axis='x', pad=5) #SET PADDING ABOVE X-AXIS LABELS\n",
        "#Set x axis label on top of plot, set label text --> https://datasciencelab.wordpress.com/2013/12/21/beautiful-plots-with-pandas-and-matplotlib/\n",
        "#daily_plot.xaxis.set_label_position('top')\n",
        "\n",
        "savefig('daily counts.png', bbox_inches='tight', dpi=300, format='png') "
      ],
      "execution_count": 0,
      "outputs": [
        {
          "output_type": "display_data",
          "data": {
            "image/png": "[encoded data removed]",
            "text/plain": [
              "<Figure size 432x288 with 1 Axes>"
            ]
          },
          "metadata": {
            "tags": []
          }
        }
      ]
    },
    {
      "cell_type": "markdown",
      "metadata": {
        "id": "DoSxNHewDNVY",
        "colab_type": "text"
      },
      "source": [
        "#Plot Day-of-the-Week Tweets"
      ]
    },
    {
      "cell_type": "code",
      "metadata": {
        "id": "CRb-q_oqDPYX",
        "colab_type": "code",
        "outputId": "ee6fc2e4-e36c-45c3-adcc-565acfb3e3b7",
        "colab": {
          "base_uri": "https://localhost:8080/",
          "height": 314
        }
      },
      "source": [
        "weekday_count = pdf.groupby(pdf.index.weekday).apply(f)\n",
        "print len(weekday_count)\n",
        "weekday_count"
      ],
      "execution_count": 0,
      "outputs": [
        {
          "output_type": "stream",
          "text": [
            "7\n"
          ],
          "name": "stdout"
        },
        {
          "output_type": "execute_result",
          "data": {
            "text/html": [
              "<div>\n",
              "<style scoped>\n",
              "    .dataframe tbody tr th:only-of-type {\n",
              "        vertical-align: middle;\n",
              "    }\n",
              "\n",
              "    .dataframe tbody tr th {\n",
              "        vertical-align: top;\n",
              "    }\n",
              "\n",
              "    .dataframe thead th {\n",
              "        text-align: right;\n",
              "    }\n",
              "</style>\n",
              "<table border=\"1\" class=\"dataframe\">\n",
              "  <thead>\n",
              "    <tr style=\"text-align: right;\">\n",
              "      <th></th>\n",
              "      <th>Number_of_tweets</th>\n",
              "    </tr>\n",
              "    <tr>\n",
              "      <th>created_at</th>\n",
              "      <th></th>\n",
              "    </tr>\n",
              "  </thead>\n",
              "  <tbody>\n",
              "    <tr>\n",
              "      <th>0</th>\n",
              "      <td>310205</td>\n",
              "    </tr>\n",
              "    <tr>\n",
              "      <th>1</th>\n",
              "      <td>185850</td>\n",
              "    </tr>\n",
              "    <tr>\n",
              "      <th>2</th>\n",
              "      <td>96806</td>\n",
              "    </tr>\n",
              "    <tr>\n",
              "      <th>3</th>\n",
              "      <td>106035</td>\n",
              "    </tr>\n",
              "    <tr>\n",
              "      <th>4</th>\n",
              "      <td>225594</td>\n",
              "    </tr>\n",
              "    <tr>\n",
              "      <th>5</th>\n",
              "      <td>330955</td>\n",
              "    </tr>\n",
              "    <tr>\n",
              "      <th>6</th>\n",
              "      <td>344555</td>\n",
              "    </tr>\n",
              "  </tbody>\n",
              "</table>\n",
              "</div>"
            ],
            "text/plain": [
              "            Number_of_tweets\n",
              "created_at                  \n",
              "0                     310205\n",
              "1                     185850\n",
              "2                      96806\n",
              "3                     106035\n",
              "4                     225594\n",
              "5                     330955\n",
              "6                     344555"
            ]
          },
          "metadata": {
            "tags": []
          },
          "execution_count": 55
        }
      ]
    },
    {
      "cell_type": "code",
      "metadata": {
        "id": "KfAgwdDjG5jq",
        "colab_type": "code",
        "outputId": "3fabe0a2-a7f6-4e74-c5ed-43c494968e67",
        "colab": {
          "base_uri": "https://localhost:8080/",
          "height": 297
        }
      },
      "source": [
        "days = ['Monday', 'Tuesday', 'Wednesday', 'Thursday', 'Friday', 'Saturday', 'Sunday']\n",
        "weekday_count['day'] = days\n",
        "weekday_count"
      ],
      "execution_count": 0,
      "outputs": [
        {
          "output_type": "execute_result",
          "data": {
            "text/html": [
              "<div>\n",
              "<style scoped>\n",
              "    .dataframe tbody tr th:only-of-type {\n",
              "        vertical-align: middle;\n",
              "    }\n",
              "\n",
              "    .dataframe tbody tr th {\n",
              "        vertical-align: top;\n",
              "    }\n",
              "\n",
              "    .dataframe thead th {\n",
              "        text-align: right;\n",
              "    }\n",
              "</style>\n",
              "<table border=\"1\" class=\"dataframe\">\n",
              "  <thead>\n",
              "    <tr style=\"text-align: right;\">\n",
              "      <th></th>\n",
              "      <th>Number_of_tweets</th>\n",
              "      <th>day</th>\n",
              "    </tr>\n",
              "    <tr>\n",
              "      <th>created_at</th>\n",
              "      <th></th>\n",
              "      <th></th>\n",
              "    </tr>\n",
              "  </thead>\n",
              "  <tbody>\n",
              "    <tr>\n",
              "      <th>0</th>\n",
              "      <td>310205</td>\n",
              "      <td>Monday</td>\n",
              "    </tr>\n",
              "    <tr>\n",
              "      <th>1</th>\n",
              "      <td>185850</td>\n",
              "      <td>Tuesday</td>\n",
              "    </tr>\n",
              "    <tr>\n",
              "      <th>2</th>\n",
              "      <td>96806</td>\n",
              "      <td>Wednesday</td>\n",
              "    </tr>\n",
              "    <tr>\n",
              "      <th>3</th>\n",
              "      <td>106035</td>\n",
              "      <td>Thursday</td>\n",
              "    </tr>\n",
              "    <tr>\n",
              "      <th>4</th>\n",
              "      <td>225594</td>\n",
              "      <td>Friday</td>\n",
              "    </tr>\n",
              "    <tr>\n",
              "      <th>5</th>\n",
              "      <td>330955</td>\n",
              "      <td>Saturday</td>\n",
              "    </tr>\n",
              "    <tr>\n",
              "      <th>6</th>\n",
              "      <td>344555</td>\n",
              "      <td>Sunday</td>\n",
              "    </tr>\n",
              "  </tbody>\n",
              "</table>\n",
              "</div>"
            ],
            "text/plain": [
              "            Number_of_tweets        day\n",
              "created_at                             \n",
              "0                     310205     Monday\n",
              "1                     185850    Tuesday\n",
              "2                      96806  Wednesday\n",
              "3                     106035   Thursday\n",
              "4                     225594     Friday\n",
              "5                     330955   Saturday\n",
              "6                     344555     Sunday"
            ]
          },
          "metadata": {
            "tags": []
          },
          "execution_count": 56
        }
      ]
    },
    {
      "cell_type": "code",
      "metadata": {
        "id": "8A4-mbCKG7xl",
        "colab_type": "code",
        "outputId": "0e736de4-45f1-4b52-b637-e7e7dd4b8227",
        "colab": {
          "base_uri": "https://localhost:8080/",
          "height": 278
        }
      },
      "source": [
        "day_of_week_plot = weekday_count['Number_of_tweets'].plot(kind='bar')\n",
        "xticks(np.arange(7), weekday_count['day'], rotation = 0, fontsize = 9) #, ha =\"left\") \n",
        "\n",
        "###IF WE DON'T WANT TO CREATE ANOTHER COLUMN IN DATAFRAME WE CAN SET CUSTOM LABELS\n",
        "#days = ['Monday', 'Tuesday', 'Wednesday', 'Thursday', 'Friday', 'Saturday', 'Sunday']\n",
        "#xticks(np.arange(7), days, rotation = 0,fontsize = 9) #, ha =\"left\") \n",
        "\n",
        "savefig('day-of-week counts.png', bbox_inches='tight', dpi=300, format='png')"
      ],
      "execution_count": 0,
      "outputs": [
        {
          "output_type": "display_data",
          "data": {
            "image/png": "[encoded data removed]",
            "text/plain": [
              "<Figure size 432x288 with 1 Axes>"
            ]
          },
          "metadata": {
            "tags": []
          }
        }
      ]
    },
    {
      "cell_type": "code",
      "metadata": {
        "id": "JTgr2to0HA0N",
        "colab_type": "code",
        "outputId": "ede9bbc8-1687-4e5e-bced-54b39092a783",
        "colab": {
          "base_uri": "https://localhost:8080/",
          "height": 841
        }
      },
      "source": [
        "hourly_count = pdf.groupby(pdf.index.hour).apply(f)\n",
        "print len(hourly_count)\n",
        "hourly_count"
      ],
      "execution_count": 0,
      "outputs": [
        {
          "output_type": "stream",
          "text": [
            "24\n"
          ],
          "name": "stdout"
        },
        {
          "output_type": "execute_result",
          "data": {
            "text/html": [
              "<div>\n",
              "<style scoped>\n",
              "    .dataframe tbody tr th:only-of-type {\n",
              "        vertical-align: middle;\n",
              "    }\n",
              "\n",
              "    .dataframe tbody tr th {\n",
              "        vertical-align: top;\n",
              "    }\n",
              "\n",
              "    .dataframe thead th {\n",
              "        text-align: right;\n",
              "    }\n",
              "</style>\n",
              "<table border=\"1\" class=\"dataframe\">\n",
              "  <thead>\n",
              "    <tr style=\"text-align: right;\">\n",
              "      <th></th>\n",
              "      <th>Number_of_tweets</th>\n",
              "    </tr>\n",
              "    <tr>\n",
              "      <th>created_at</th>\n",
              "      <th></th>\n",
              "    </tr>\n",
              "  </thead>\n",
              "  <tbody>\n",
              "    <tr>\n",
              "      <th>0</th>\n",
              "      <td>80865</td>\n",
              "    </tr>\n",
              "    <tr>\n",
              "      <th>1</th>\n",
              "      <td>75268</td>\n",
              "    </tr>\n",
              "    <tr>\n",
              "      <th>2</th>\n",
              "      <td>73991</td>\n",
              "    </tr>\n",
              "    <tr>\n",
              "      <th>3</th>\n",
              "      <td>74253</td>\n",
              "    </tr>\n",
              "    <tr>\n",
              "      <th>4</th>\n",
              "      <td>76995</td>\n",
              "    </tr>\n",
              "    <tr>\n",
              "      <th>5</th>\n",
              "      <td>78623</td>\n",
              "    </tr>\n",
              "    <tr>\n",
              "      <th>6</th>\n",
              "      <td>80852</td>\n",
              "    </tr>\n",
              "    <tr>\n",
              "      <th>7</th>\n",
              "      <td>83654</td>\n",
              "    </tr>\n",
              "    <tr>\n",
              "      <th>8</th>\n",
              "      <td>76287</td>\n",
              "    </tr>\n",
              "    <tr>\n",
              "      <th>9</th>\n",
              "      <td>67278</td>\n",
              "    </tr>\n",
              "    <tr>\n",
              "      <th>10</th>\n",
              "      <td>60689</td>\n",
              "    </tr>\n",
              "    <tr>\n",
              "      <th>11</th>\n",
              "      <td>61009</td>\n",
              "    </tr>\n",
              "    <tr>\n",
              "      <th>12</th>\n",
              "      <td>51653</td>\n",
              "    </tr>\n",
              "    <tr>\n",
              "      <th>13</th>\n",
              "      <td>49689</td>\n",
              "    </tr>\n",
              "    <tr>\n",
              "      <th>14</th>\n",
              "      <td>50380</td>\n",
              "    </tr>\n",
              "    <tr>\n",
              "      <th>15</th>\n",
              "      <td>50643</td>\n",
              "    </tr>\n",
              "    <tr>\n",
              "      <th>16</th>\n",
              "      <td>55720</td>\n",
              "    </tr>\n",
              "    <tr>\n",
              "      <th>17</th>\n",
              "      <td>51843</td>\n",
              "    </tr>\n",
              "    <tr>\n",
              "      <th>18</th>\n",
              "      <td>53485</td>\n",
              "    </tr>\n",
              "    <tr>\n",
              "      <th>19</th>\n",
              "      <td>57722</td>\n",
              "    </tr>\n",
              "    <tr>\n",
              "      <th>20</th>\n",
              "      <td>57059</td>\n",
              "    </tr>\n",
              "    <tr>\n",
              "      <th>21</th>\n",
              "      <td>68964</td>\n",
              "    </tr>\n",
              "    <tr>\n",
              "      <th>22</th>\n",
              "      <td>78328</td>\n",
              "    </tr>\n",
              "    <tr>\n",
              "      <th>23</th>\n",
              "      <td>84750</td>\n",
              "    </tr>\n",
              "  </tbody>\n",
              "</table>\n",
              "</div>"
            ],
            "text/plain": [
              "            Number_of_tweets\n",
              "created_at                  \n",
              "0                      80865\n",
              "1                      75268\n",
              "2                      73991\n",
              "3                      74253\n",
              "4                      76995\n",
              "5                      78623\n",
              "6                      80852\n",
              "7                      83654\n",
              "8                      76287\n",
              "9                      67278\n",
              "10                     60689\n",
              "11                     61009\n",
              "12                     51653\n",
              "13                     49689\n",
              "14                     50380\n",
              "15                     50643\n",
              "16                     55720\n",
              "17                     51843\n",
              "18                     53485\n",
              "19                     57722\n",
              "20                     57059\n",
              "21                     68964\n",
              "22                     78328\n",
              "23                     84750"
            ]
          },
          "metadata": {
            "tags": []
          },
          "execution_count": 59
        }
      ]
    },
    {
      "cell_type": "code",
      "metadata": {
        "id": "6mw3OvxyHFv2",
        "colab_type": "code",
        "outputId": "26d37902-64fe-40d5-c420-85720105df44",
        "colab": {
          "base_uri": "https://localhost:8080/",
          "height": 279
        }
      },
      "source": [
        "hourly_plot = hourly_count['Number_of_tweets'].plot()"
      ],
      "execution_count": 0,
      "outputs": [
        {
          "output_type": "display_data",
          "data": {
            "image/png": "[encoded data removed]",
            "text/plain": [
              "<Figure size 432x288 with 1 Axes>"
            ]
          },
          "metadata": {
            "tags": []
          }
        }
      ]
    },
    {
      "cell_type": "code",
      "metadata": {
        "id": "7AozBJTqHJNR",
        "colab_type": "code",
        "outputId": "90b33286-cd1c-459b-fad7-03628efc9f29",
        "colab": {
          "base_uri": "https://localhost:8080/",
          "height": 703
        }
      },
      "source": [
        "hourly_plot = hourly_count['Number_of_tweets'].plot()\n",
        "xticks(np.arange(24), rotation = 0,fontsize = 9) #, ha =\"left\") "
      ],
      "execution_count": 0,
      "outputs": [
        {
          "output_type": "execute_result",
          "data": {
            "text/plain": [
              "([<matplotlib.axis.XTick at 0x7f29b9d139d0>,\n",
              "  <matplotlib.axis.XTick at 0x7f29b9d13510>,\n",
              "  <matplotlib.axis.XTick at 0x7f29ba302110>,\n",
              "  <matplotlib.axis.XTick at 0x7f29ba302d50>,\n",
              "  <matplotlib.axis.XTick at 0x7f29bb374350>,\n",
              "  <matplotlib.axis.XTick at 0x7f29bb374910>,\n",
              "  <matplotlib.axis.XTick at 0x7f29bb374ed0>,\n",
              "  <matplotlib.axis.XTick at 0x7f29b772af90>,\n",
              "  <matplotlib.axis.XTick at 0x7f29c0c95b10>,\n",
              "  <matplotlib.axis.XTick at 0x7f29c0c8b090>,\n",
              "  <matplotlib.axis.XTick at 0x7f29c0c8b650>,\n",
              "  <matplotlib.axis.XTick at 0x7f29c0c8bc10>,\n",
              "  <matplotlib.axis.XTick at 0x7f29c0c8b310>,\n",
              "  <matplotlib.axis.XTick at 0x7f29bb37ddd0>,\n",
              "  <matplotlib.axis.XTick at 0x7f29bb3716d0>,\n",
              "  <matplotlib.axis.XTick at 0x7f29bec4a5d0>,\n",
              "  <matplotlib.axis.XTick at 0x7f29bec4ab90>,\n",
              "  <matplotlib.axis.XTick at 0x7f29bec2c190>,\n",
              "  <matplotlib.axis.XTick at 0x7f29bec2c750>,\n",
              "  <matplotlib.axis.XTick at 0x7f29bec2cd10>,\n",
              "  <matplotlib.axis.XTick at 0x7f29bec67310>,\n",
              "  <matplotlib.axis.XTick at 0x7f29bec678d0>,\n",
              "  <matplotlib.axis.XTick at 0x7f29bec4ad10>,\n",
              "  <matplotlib.axis.XTick at 0x7f29c0c95c50>],\n",
              " <a list of 24 Text xticklabel objects>)"
            ]
          },
          "metadata": {
            "tags": []
          },
          "execution_count": 61
        },
        {
          "output_type": "display_data",
          "data": {
            "image/png": "[encoded data removed]",
            "text/plain": [
              "<Figure size 432x288 with 1 Axes>"
            ]
          },
          "metadata": {
            "tags": []
          }
        }
      ]
    },
    {
      "cell_type": "code",
      "metadata": {
        "id": "L1n9y0l5JaUW",
        "colab_type": "code",
        "outputId": "28f74db5-1b93-4fa3-e80a-0d42481728d3",
        "colab": {
          "base_uri": "https://localhost:8080/",
          "height": 289
        }
      },
      "source": [
        "hourly_plot = hourly_count['Number_of_tweets'].plot(kind='line')\n",
        "hours = list(range(1,25))                                                #GENERATE LIST FROM 1 TO 24\n",
        "xticks(np.arange(24), hours, rotation = 0,fontsize = 9)                  #USE THE CUSTOM TICKS\n",
        "\n",
        "hourly_plot.set_xlabel('Hour of the Day', weight='bold', labelpad=15)     #SET X-AXIS LABEL, ADD PADDING TO TOP OF X-AXIS LABEL\n",
        "hourly_plot.set_ylabel('# Tweets (Messages)', weight='bold', labelpad=15) #SET Y-AXIS LABEL, ADD PADDING TO RIGHT OF Y-AXIS LABEL\n",
        "\n",
        "xticks(fontsize = 9, rotation = 0, ha= \"center\")                          #SET FONT SIZE FOR X-AXIS TICK LABELS\n",
        "yticks(fontsize = 9)                                                      #SET FONT SIZE FOR Y-AXIS TICK LABELS\n",
        "daily_plot.tick_params(axis='x', pad=5)                                   #SET PADDING ABOVE X-AXIS LABELS\n",
        "\n",
        "daily_plot.legend_ = None                                                 #TURN OFF LEGEND\n",
        "\n",
        "savefig('hourly counts - line graph.png', bbox_inches='tight', dpi=300, format='png')"
      ],
      "execution_count": 0,
      "outputs": [
        {
          "output_type": "display_data",
          "data": {
            "image/png": "[encoded data removed]",
            "text/plain": [
              "<Figure size 432x288 with 1 Axes>"
            ]
          },
          "metadata": {
            "tags": []
          }
        }
      ]
    },
    {
      "cell_type": "code",
      "metadata": {
        "id": "SXsxh0HUJemq",
        "colab_type": "code",
        "outputId": "8d33be8e-8f99-441b-d48c-198fa93dbe51",
        "colab": {
          "base_uri": "https://localhost:8080/",
          "height": 289
        }
      },
      "source": [
        "hourly_plot = hourly_count['Number_of_tweets'].plot(kind='bar')\n",
        "hours = list(range(1,25))                                                 #GENERATE LIST FROM 1 TO 24\n",
        "xticks(np.arange(24), hours, rotation = 0,fontsize = 9)                   #USE THE CUSTOM TICKS\n",
        "\n",
        "hourly_plot.set_xlabel('Hour of the Day', weight='bold', labelpad=15)     #SET X-AXIS LABEL, ADD PADDING TO TOP OF X-AXIS LABEL\n",
        "hourly_plot.set_ylabel('# Tweets (Messages)', weight='bold', labelpad=15) #SET Y-AXIS LABEL, ADD PADDING TO RIGHT OF Y-AXIS LABEL\n",
        "\n",
        "xticks(fontsize = 9, rotation = 0, ha= \"center\")                          #SET FONT SIZE FOR X-AXIS TICK LABELS\n",
        "yticks(fontsize = 9)                                                      #SET FONT SIZE FOR Y-AXIS TICK LABELS\n",
        "daily_plot.tick_params(axis='x', pad=5)                                   #SET PADDING ABOVE X-AXIS LABELS\n",
        "\n",
        "daily_plot.legend_ = None                                                 #TURN OFF LEGEND\n",
        "\n",
        "savefig('hourly counts - bar graph.png', bbox_inches='tight', dpi=300, format='png')"
      ],
      "execution_count": 0,
      "outputs": [
        {
          "output_type": "display_data",
          "data": {
            "image/png": "[encoded data removed]",
            "text/plain": [
              "<Figure size 432x288 with 1 Axes>"
            ]
          },
          "metadata": {
            "tags": []
          }
        }
      ]
    },
    {
      "cell_type": "code",
      "metadata": {
        "id": "hQ2_-_JiJi-M",
        "colab_type": "code",
        "outputId": "13f2bdaf-6e5a-4b96-ae87-dd701e70f569",
        "colab": {
          "base_uri": "https://localhost:8080/",
          "height": 190
        }
      },
      "source": [
        "monthly_count = pdf.groupby(pdf.index.month).apply(f)\n",
        "print len(monthly_count)\n",
        "monthly_count"
      ],
      "execution_count": 0,
      "outputs": [
        {
          "output_type": "stream",
          "text": [
            "3\n"
          ],
          "name": "stdout"
        },
        {
          "output_type": "execute_result",
          "data": {
            "text/html": [
              "<div>\n",
              "<style scoped>\n",
              "    .dataframe tbody tr th:only-of-type {\n",
              "        vertical-align: middle;\n",
              "    }\n",
              "\n",
              "    .dataframe tbody tr th {\n",
              "        vertical-align: top;\n",
              "    }\n",
              "\n",
              "    .dataframe thead th {\n",
              "        text-align: right;\n",
              "    }\n",
              "</style>\n",
              "<table border=\"1\" class=\"dataframe\">\n",
              "  <thead>\n",
              "    <tr style=\"text-align: right;\">\n",
              "      <th></th>\n",
              "      <th>Number_of_tweets</th>\n",
              "    </tr>\n",
              "    <tr>\n",
              "      <th>created_at</th>\n",
              "      <th></th>\n",
              "    </tr>\n",
              "  </thead>\n",
              "  <tbody>\n",
              "    <tr>\n",
              "      <th>4</th>\n",
              "      <td>100025</td>\n",
              "    </tr>\n",
              "    <tr>\n",
              "      <th>5</th>\n",
              "      <td>576367</td>\n",
              "    </tr>\n",
              "    <tr>\n",
              "      <th>6</th>\n",
              "      <td>923608</td>\n",
              "    </tr>\n",
              "  </tbody>\n",
              "</table>\n",
              "</div>"
            ],
            "text/plain": [
              "            Number_of_tweets\n",
              "created_at                  \n",
              "4                     100025\n",
              "5                     576367\n",
              "6                     923608"
            ]
          },
          "metadata": {
            "tags": []
          },
          "execution_count": 89
        }
      ]
    },
    {
      "cell_type": "code",
      "metadata": {
        "id": "M_VwQ0z6JnRf",
        "colab_type": "code",
        "outputId": "59ed7d5a-eb64-43e4-cbd1-cafed4e22943",
        "colab": {
          "base_uri": "https://localhost:8080/",
          "height": 289
        }
      },
      "source": [
        "monthly_plot = monthly_count['Number_of_tweets'].plot(kind='bar')\n",
        "months = list(calendar.month_name[1:])                                    #GENERATE LIST OF MONTHS\n",
        "xticks(np.arange(12), months, rotation = 0,fontsize = 9)                  #USE THE CUSTOM TICKS\n",
        "\n",
        "monthly_plot.set_xlabel('Month of the Year', weight='bold', labelpad=15)  #SET X-AXIS LABEL, ADD PADDING TO TOP OF X-AXIS LABEL\n",
        "monthly_plot.set_ylabel('# Tweets (Messages)', weight='bold', labelpad=15) #SET Y-AXIS LABEL, ADD PADDING TO RIGHT OF Y-AXIS LABEL\n",
        "\n",
        "xticks(fontsize = 9, rotation = 0, ha= \"center\")                          #SET FONT SIZE FOR X-AXIS TICK LABELS\n",
        "yticks(fontsize = 9)                                                      #SET FONT SIZE FOR Y-AXIS TICK LABELS\n",
        "daily_plot.tick_params(axis='x', pad=5)                                   #SET PADDING ABOVE X-AXIS LABELS\n",
        "\n",
        "daily_plot.legend_ = None                                                 #TURN OFF LEGEND\n",
        "\n",
        "savefig('monthly counts - bar graph.png', bbox_inches='tight', dpi=300, format='png')"
      ],
      "execution_count": 0,
      "outputs": [
        {
          "output_type": "display_data",
          "data": {
            "image/png": "[encoded data removed]",
            "text/plain": [
              "<Figure size 432x288 with 1 Axes>"
            ]
          },
          "metadata": {
            "tags": []
          }
        }
      ]
    },
    {
      "cell_type": "code",
      "metadata": {
        "id": "6AGkrEAIJsa2",
        "colab_type": "code",
        "outputId": "6018cbe5-bc79-409a-b713-4089a31c0c0d",
        "colab": {
          "base_uri": "https://localhost:8080/",
          "height": 252
        }
      },
      "source": [
        "minute_count = pdf.groupby(pdf.index.minute).apply(f)\n",
        "print len(minute_count)\n",
        "minute_count.head()"
      ],
      "execution_count": 0,
      "outputs": [
        {
          "output_type": "stream",
          "text": [
            "60\n"
          ],
          "name": "stdout"
        },
        {
          "output_type": "execute_result",
          "data": {
            "text/html": [
              "<div>\n",
              "<style scoped>\n",
              "    .dataframe tbody tr th:only-of-type {\n",
              "        vertical-align: middle;\n",
              "    }\n",
              "\n",
              "    .dataframe tbody tr th {\n",
              "        vertical-align: top;\n",
              "    }\n",
              "\n",
              "    .dataframe thead th {\n",
              "        text-align: right;\n",
              "    }\n",
              "</style>\n",
              "<table border=\"1\" class=\"dataframe\">\n",
              "  <thead>\n",
              "    <tr style=\"text-align: right;\">\n",
              "      <th></th>\n",
              "      <th>Number_of_tweets</th>\n",
              "    </tr>\n",
              "    <tr>\n",
              "      <th>created_at</th>\n",
              "      <th></th>\n",
              "    </tr>\n",
              "  </thead>\n",
              "  <tbody>\n",
              "    <tr>\n",
              "      <th>0</th>\n",
              "      <td>26885</td>\n",
              "    </tr>\n",
              "    <tr>\n",
              "      <th>1</th>\n",
              "      <td>27422</td>\n",
              "    </tr>\n",
              "    <tr>\n",
              "      <th>2</th>\n",
              "      <td>26796</td>\n",
              "    </tr>\n",
              "    <tr>\n",
              "      <th>3</th>\n",
              "      <td>26698</td>\n",
              "    </tr>\n",
              "    <tr>\n",
              "      <th>4</th>\n",
              "      <td>26763</td>\n",
              "    </tr>\n",
              "  </tbody>\n",
              "</table>\n",
              "</div>"
            ],
            "text/plain": [
              "            Number_of_tweets\n",
              "created_at                  \n",
              "0                      26885\n",
              "1                      27422\n",
              "2                      26796\n",
              "3                      26698\n",
              "4                      26763"
            ]
          },
          "metadata": {
            "tags": []
          },
          "execution_count": 92
        }
      ]
    },
    {
      "cell_type": "code",
      "metadata": {
        "id": "Bpk44blmJwd_",
        "colab_type": "code",
        "outputId": "9dc0e695-f7d5-4128-e5d5-e55333f3c450",
        "colab": {
          "base_uri": "https://localhost:8080/",
          "height": 296
        }
      },
      "source": [
        "minute_count.plot()"
      ],
      "execution_count": 0,
      "outputs": [
        {
          "output_type": "execute_result",
          "data": {
            "text/plain": [
              "<matplotlib.axes._subplots.AxesSubplot at 0x7f29a38cfa50>"
            ]
          },
          "metadata": {
            "tags": []
          },
          "execution_count": 93
        },
        {
          "output_type": "display_data",
          "data": {
            "image/png": "[encoded data removed]",
            "text/plain": [
              "<Figure size 432x288 with 1 Axes>"
            ]
          },
          "metadata": {
            "tags": []
          }
        }
      ]
    },
    {
      "cell_type": "code",
      "metadata": {
        "id": "yUKQSeF7J1Kl",
        "colab_type": "code",
        "outputId": "a161b525-dcc6-4cb3-f244-2ef45afe5c35",
        "colab": {
          "base_uri": "https://localhost:8080/",
          "height": 252
        }
      },
      "source": [
        "second_count = pdf.groupby(pdf.index.second).apply(f)\n",
        "print len(second_count)\n",
        "second_count.head()"
      ],
      "execution_count": 0,
      "outputs": [
        {
          "output_type": "stream",
          "text": [
            "60\n"
          ],
          "name": "stdout"
        },
        {
          "output_type": "execute_result",
          "data": {
            "text/html": [
              "<div>\n",
              "<style scoped>\n",
              "    .dataframe tbody tr th:only-of-type {\n",
              "        vertical-align: middle;\n",
              "    }\n",
              "\n",
              "    .dataframe tbody tr th {\n",
              "        vertical-align: top;\n",
              "    }\n",
              "\n",
              "    .dataframe thead th {\n",
              "        text-align: right;\n",
              "    }\n",
              "</style>\n",
              "<table border=\"1\" class=\"dataframe\">\n",
              "  <thead>\n",
              "    <tr style=\"text-align: right;\">\n",
              "      <th></th>\n",
              "      <th>Number_of_tweets</th>\n",
              "    </tr>\n",
              "    <tr>\n",
              "      <th>created_at</th>\n",
              "      <th></th>\n",
              "    </tr>\n",
              "  </thead>\n",
              "  <tbody>\n",
              "    <tr>\n",
              "      <th>0</th>\n",
              "      <td>25615</td>\n",
              "    </tr>\n",
              "    <tr>\n",
              "      <th>1</th>\n",
              "      <td>25210</td>\n",
              "    </tr>\n",
              "    <tr>\n",
              "      <th>2</th>\n",
              "      <td>26012</td>\n",
              "    </tr>\n",
              "    <tr>\n",
              "      <th>3</th>\n",
              "      <td>26775</td>\n",
              "    </tr>\n",
              "    <tr>\n",
              "      <th>4</th>\n",
              "      <td>27132</td>\n",
              "    </tr>\n",
              "  </tbody>\n",
              "</table>\n",
              "</div>"
            ],
            "text/plain": [
              "            Number_of_tweets\n",
              "created_at                  \n",
              "0                      25615\n",
              "1                      25210\n",
              "2                      26012\n",
              "3                      26775\n",
              "4                      27132"
            ]
          },
          "metadata": {
            "tags": []
          },
          "execution_count": 95
        }
      ]
    },
    {
      "cell_type": "code",
      "metadata": {
        "id": "FQmcjcwBJ4ID",
        "colab_type": "code",
        "outputId": "8b3cf21a-6376-4eb5-d3ae-5d1a75652372",
        "colab": {
          "base_uri": "https://localhost:8080/",
          "height": 296
        }
      },
      "source": [
        "second_count.plot()"
      ],
      "execution_count": 0,
      "outputs": [
        {
          "output_type": "execute_result",
          "data": {
            "text/plain": [
              "<matplotlib.axes._subplots.AxesSubplot at 0x7f29a38423d0>"
            ]
          },
          "metadata": {
            "tags": []
          },
          "execution_count": 96
        },
        {
          "output_type": "display_data",
          "data": {
            "image/png": "[encoded data removed]",
            "text/plain": [
              "<Figure size 432x288 with 1 Axes>"
            ]
          },
          "metadata": {
            "tags": []
          }
        }
      ]
    },
    {
      "cell_type": "code",
      "metadata": {
        "id": "WiWfFPT9UJ-x",
        "colab_type": "code",
        "outputId": "802a032d-eb8e-41e6-ca33-5f4d62b3fbad",
        "colab": {
          "base_uri": "https://localhost:8080/",
          "height": 359
        }
      },
      "source": [
        "pd.set_option('display.max_columns', None)\n",
        "plt.rcParams['figure.figsize'] = (2000, 5)\n",
        "pdf.head(10)"
      ],
      "execution_count": 0,
      "outputs": [
        {
          "output_type": "execute_result",
          "data": {
            "text/html": [
              "<div>\n",
              "<style scoped>\n",
              "    .dataframe tbody tr th:only-of-type {\n",
              "        vertical-align: middle;\n",
              "    }\n",
              "\n",
              "    .dataframe tbody tr th {\n",
              "        vertical-align: top;\n",
              "    }\n",
              "\n",
              "    .dataframe thead th {\n",
              "        text-align: right;\n",
              "    }\n",
              "</style>\n",
              "<table border=\"1\" class=\"dataframe\">\n",
              "  <thead>\n",
              "    <tr style=\"text-align: right;\">\n",
              "      <th></th>\n",
              "      <th>_c0</th>\n",
              "      <th>_c1</th>\n",
              "      <th>_c2</th>\n",
              "      <th>_c3</th>\n",
              "      <th>_c4</th>\n",
              "      <th>_c5</th>\n",
              "    </tr>\n",
              "  </thead>\n",
              "  <tbody>\n",
              "    <tr>\n",
              "      <th>0</th>\n",
              "      <td>0</td>\n",
              "      <td>1467810369</td>\n",
              "      <td>Mon Apr 06 22:19:45 PDT 2009</td>\n",
              "      <td>NO_QUERY</td>\n",
              "      <td>_TheSpecialOne_</td>\n",
              "      <td>@switchfoot http://twitpic.com/2y1zl - Awww, t...</td>\n",
              "    </tr>\n",
              "    <tr>\n",
              "      <th>1</th>\n",
              "      <td>0</td>\n",
              "      <td>1467810672</td>\n",
              "      <td>Mon Apr 06 22:19:49 PDT 2009</td>\n",
              "      <td>NO_QUERY</td>\n",
              "      <td>scotthamilton</td>\n",
              "      <td>is upset that he can't update his Facebook by ...</td>\n",
              "    </tr>\n",
              "    <tr>\n",
              "      <th>2</th>\n",
              "      <td>0</td>\n",
              "      <td>1467810917</td>\n",
              "      <td>Mon Apr 06 22:19:53 PDT 2009</td>\n",
              "      <td>NO_QUERY</td>\n",
              "      <td>mattycus</td>\n",
              "      <td>@Kenichan I dived many times for the ball. Man...</td>\n",
              "    </tr>\n",
              "    <tr>\n",
              "      <th>3</th>\n",
              "      <td>0</td>\n",
              "      <td>1467811184</td>\n",
              "      <td>Mon Apr 06 22:19:57 PDT 2009</td>\n",
              "      <td>NO_QUERY</td>\n",
              "      <td>ElleCTF</td>\n",
              "      <td>my whole body feels itchy and like its on fire</td>\n",
              "    </tr>\n",
              "    <tr>\n",
              "      <th>4</th>\n",
              "      <td>0</td>\n",
              "      <td>1467811193</td>\n",
              "      <td>Mon Apr 06 22:19:57 PDT 2009</td>\n",
              "      <td>NO_QUERY</td>\n",
              "      <td>Karoli</td>\n",
              "      <td>@nationwideclass no, it's not behaving at all....</td>\n",
              "    </tr>\n",
              "    <tr>\n",
              "      <th>5</th>\n",
              "      <td>0</td>\n",
              "      <td>1467811372</td>\n",
              "      <td>Mon Apr 06 22:20:00 PDT 2009</td>\n",
              "      <td>NO_QUERY</td>\n",
              "      <td>joy_wolf</td>\n",
              "      <td>@Kwesidei not the whole crew</td>\n",
              "    </tr>\n",
              "    <tr>\n",
              "      <th>6</th>\n",
              "      <td>0</td>\n",
              "      <td>1467811592</td>\n",
              "      <td>Mon Apr 06 22:20:03 PDT 2009</td>\n",
              "      <td>NO_QUERY</td>\n",
              "      <td>mybirch</td>\n",
              "      <td>Need a hug</td>\n",
              "    </tr>\n",
              "    <tr>\n",
              "      <th>7</th>\n",
              "      <td>0</td>\n",
              "      <td>1467811594</td>\n",
              "      <td>Mon Apr 06 22:20:03 PDT 2009</td>\n",
              "      <td>NO_QUERY</td>\n",
              "      <td>coZZ</td>\n",
              "      <td>@LOLTrish hey  long time no see! Yes.. Rains a...</td>\n",
              "    </tr>\n",
              "    <tr>\n",
              "      <th>8</th>\n",
              "      <td>0</td>\n",
              "      <td>1467811795</td>\n",
              "      <td>Mon Apr 06 22:20:05 PDT 2009</td>\n",
              "      <td>NO_QUERY</td>\n",
              "      <td>2Hood4Hollywood</td>\n",
              "      <td>@Tatiana_K nope they didn't have it</td>\n",
              "    </tr>\n",
              "    <tr>\n",
              "      <th>9</th>\n",
              "      <td>0</td>\n",
              "      <td>1467812025</td>\n",
              "      <td>Mon Apr 06 22:20:09 PDT 2009</td>\n",
              "      <td>NO_QUERY</td>\n",
              "      <td>mimismo</td>\n",
              "      <td>@twittera que me muera ?</td>\n",
              "    </tr>\n",
              "  </tbody>\n",
              "</table>\n",
              "</div>"
            ],
            "text/plain": [
              "   _c0         _c1                           _c2       _c3              _c4  \\\n",
              "0    0  1467810369  Mon Apr 06 22:19:45 PDT 2009  NO_QUERY  _TheSpecialOne_   \n",
              "1    0  1467810672  Mon Apr 06 22:19:49 PDT 2009  NO_QUERY    scotthamilton   \n",
              "2    0  1467810917  Mon Apr 06 22:19:53 PDT 2009  NO_QUERY         mattycus   \n",
              "3    0  1467811184  Mon Apr 06 22:19:57 PDT 2009  NO_QUERY          ElleCTF   \n",
              "4    0  1467811193  Mon Apr 06 22:19:57 PDT 2009  NO_QUERY           Karoli   \n",
              "5    0  1467811372  Mon Apr 06 22:20:00 PDT 2009  NO_QUERY         joy_wolf   \n",
              "6    0  1467811592  Mon Apr 06 22:20:03 PDT 2009  NO_QUERY          mybirch   \n",
              "7    0  1467811594  Mon Apr 06 22:20:03 PDT 2009  NO_QUERY             coZZ   \n",
              "8    0  1467811795  Mon Apr 06 22:20:05 PDT 2009  NO_QUERY  2Hood4Hollywood   \n",
              "9    0  1467812025  Mon Apr 06 22:20:09 PDT 2009  NO_QUERY          mimismo   \n",
              "\n",
              "                                                 _c5  \n",
              "0  @switchfoot http://twitpic.com/2y1zl - Awww, t...  \n",
              "1  is upset that he can't update his Facebook by ...  \n",
              "2  @Kenichan I dived many times for the ball. Man...  \n",
              "3    my whole body feels itchy and like its on fire   \n",
              "4  @nationwideclass no, it's not behaving at all....  \n",
              "5                      @Kwesidei not the whole crew   \n",
              "6                                        Need a hug   \n",
              "7  @LOLTrish hey  long time no see! Yes.. Rains a...  \n",
              "8               @Tatiana_K nope they didn't have it   \n",
              "9                          @twittera que me muera ?   "
            ]
          },
          "metadata": {
            "tags": []
          },
          "execution_count": 109
        }
      ]
    },
    {
      "cell_type": "code",
      "metadata": {
        "id": "ct0BB-gRWiWm",
        "colab_type": "code",
        "outputId": "cd789765-9619-4267-b111-653369b2e557",
        "colab": {
          "base_uri": "https://localhost:8080/",
          "height": 374
        }
      },
      "source": [
        "hashtag_list = []                          #CREATE EMPTY LIST \n",
        "for i in pdf._c5:    #LOOP OVER EVERY CELL IN _c5\n",
        "    if pd.notnull(i):                      #IF CELL NOT EMPTY\n",
        "        tags = i.split()                   #SPLIT EACH CELL INTO SEPARATE HASHTAGS\n",
        "        for t in tags:                     #FOR EACH TAG IN THE CELL\n",
        "            t = \"#\"+t                      #ADD '#' SYMBOL TO BEGINNING OF EACH TAG\n",
        "            t = t.replace(',', '')         #REMOVE COMMAS FROM END OF TAGS\n",
        "            t = t.lower()                  #MAKE TAG LOWER CASE\n",
        "            hashtag_list.append(t)         #ADD TAG TO OUR LIST\n",
        "print len(hashtag_list)                    #PRINT NUMBER OF ITEMS IN OUR LIST\n",
        "hashtag_list[:20]     "
      ],
      "execution_count": 0,
      "outputs": [
        {
          "output_type": "stream",
          "text": [
            "21080806\n"
          ],
          "name": "stdout"
        },
        {
          "output_type": "execute_result",
          "data": {
            "text/plain": [
              "[u'#@switchfoot',\n",
              " u'#http://twitpic.com/2y1zl',\n",
              " u'#-',\n",
              " u'#awww',\n",
              " u\"#that's\",\n",
              " u'#a',\n",
              " u'#bummer.',\n",
              " u'#you',\n",
              " u'#shoulda',\n",
              " u'#got',\n",
              " u'#david',\n",
              " u'#carr',\n",
              " u'#of',\n",
              " u'#third',\n",
              " u'#day',\n",
              " u'#to',\n",
              " u'#do',\n",
              " u'#it.',\n",
              " u'#;d',\n",
              " u'#is']"
            ]
          },
          "metadata": {
            "tags": []
          },
          "execution_count": 115
        }
      ]
    },
    {
      "cell_type": "code",
      "metadata": {
        "id": "n5KWUd-VV6wN",
        "colab_type": "code",
        "outputId": "13ba4082-525f-4ac3-b4ea-9515f9e10ef4",
        "colab": {
          "base_uri": "https://localhost:8080/",
          "height": 374
        }
      },
      "source": [
        "hashtag_list_v2 = []     #CREATE EMPTY LIST \n",
        "for i in pdf._c5:           #LOOP OVER ITEMS IN 'S'\n",
        "    hashtag = filter(lambda x: x.startswith('#'),i.split()) \n",
        "    hashtag = map(lambda x: x.strip('/;,-.:!?\"''()'),hashtag)  ##remove the indicated punctuations\n",
        "    hashtag = map(lambda x: x.strip(),hashtag)    #STRIP REMOVES \n",
        "    hashtag = map(lambda x: x.lower(),hashtag)    #IF WE WANT LOWER CASE TAGS (OTHERWISE, COUNT IS CASE SENSITIVE)\n",
        "    hashtag_list_v2.extend(hashtag)  \n",
        "print len(hashtag_list_v2)\n",
        "hashtag_list_v2[:20]"
      ],
      "execution_count": 0,
      "outputs": [
        {
          "output_type": "stream",
          "text": [
            "44109\n"
          ],
          "name": "stdout"
        },
        {
          "output_type": "execute_result",
          "data": {
            "text/plain": [
              "[u'#itm',\n",
              " u'#therapyfail',\n",
              " u'#fb',\n",
              " u'#ttsc',\n",
              " u'#24',\n",
              " u'#gayforpeavy',\n",
              " u'#fml',\n",
              " u'#3',\n",
              " u'#camerafail',\n",
              " u'#',\n",
              " u'#...we',\n",
              " u'#fb',\n",
              " u'#travian',\n",
              " u'#wow',\n",
              " u'#art',\n",
              " u'#fail',\n",
              " u'#krispykreme',\n",
              " u'#fb',\n",
              " u'#24',\n",
              " u'#the']"
            ]
          },
          "metadata": {
            "tags": []
          },
          "execution_count": 110
        }
      ]
    },
    {
      "cell_type": "code",
      "metadata": {
        "id": "WLu6wdYGWGt1",
        "colab_type": "code",
        "outputId": "5c58e02d-be88-4ee5-a8e6-ae52780ae1e5",
        "colab": {
          "base_uri": "https://localhost:8080/",
          "height": 1071
        }
      },
      "source": [
        "Series(hashtag_list).value_counts()"
      ],
      "execution_count": 0,
      "outputs": [
        {
          "output_type": "execute_result",
          "data": {
            "text/plain": [
              "#i                            746870\n",
              "#to                           560929\n",
              "#the                          518779\n",
              "#a                            376484\n",
              "#my                           312992\n",
              "#and                          296161\n",
              "#you                          242762\n",
              "#is                           232060\n",
              "#for                          214205\n",
              "#in                           210694\n",
              "#it                           196591\n",
              "#of                           182700\n",
              "#on                           162542\n",
              "#so                           147727\n",
              "#have                         143484\n",
              "#me                           133245\n",
              "#that                         130716\n",
              "#i'm                          127632\n",
              "#but                          125857\n",
              "#just                         124501\n",
              "#with                         113631\n",
              "#be                           110792\n",
              "#at                           110415\n",
              "#was                          102981\n",
              "#not                          102830\n",
              "#this                          88863\n",
              "#get                           81003\n",
              "#good                          79509\n",
              "#are                           76251\n",
              "#up                            76241\n",
              "                               ...  \n",
              "#bleeeh...bored...my               1\n",
              "#@pattenhere                       1\n",
              "#@viciousj                         1\n",
              "#@rocketnote                       1\n",
              "#@viciousb                         1\n",
              "#@viciousc                         1\n",
              "#sundaes!!!!!                      1\n",
              "#go?)i                             1\n",
              "#cgtextures                        1\n",
              "##bigbrother.                      1\n",
              "#465k                              1\n",
              "#kablaming                         1\n",
              "#zahlbar38                         1\n",
              "#@haleyfaye                        1\n",
              "#http://tinyurl.com/nd592o         1\n",
              "#planned...headed                  1\n",
              "#@jeverington                      1\n",
              "#vip...come                        1\n",
              "#wilkinson                         1\n",
              "#grover.                           1\n",
              "#01.20am...                        1\n",
              "#rain.....but                      1\n",
              "#lonely........                    1\n",
              "#artikel.                          1\n",
              "#@ashuyeah                         1\n",
              "#prozac!                           1\n",
              "#@heirophantress                   1\n",
              "#@promomarketer                    1\n",
              "#sdcc!!                            1\n",
              "#@jujubean0273                     1\n",
              "Length: 1153408, dtype: int64"
            ]
          },
          "metadata": {
            "tags": []
          },
          "execution_count": 116
        }
      ]
    },
    {
      "cell_type": "code",
      "metadata": {
        "id": "n5Jhd9dQWOaH",
        "colab_type": "code",
        "outputId": "3f337674-559d-4942-fc49-97d0c166a099",
        "colab": {
          "base_uri": "https://localhost:8080/",
          "height": 1986
        }
      },
      "source": [
        "cnt_hashtags = DataFrame(Series(hashtag_list).value_counts())  \n",
        "cnt_hashtags.columns = ['tag_frequency']                       #GIVE A NAME TO THE COLUMN\n",
        "print len(cnt_hashtags)\n",
        "cnt_hashtags"
      ],
      "execution_count": 0,
      "outputs": [
        {
          "output_type": "stream",
          "text": [
            "1153408\n"
          ],
          "name": "stdout"
        },
        {
          "output_type": "execute_result",
          "data": {
            "text/html": [
              "<div>\n",
              "<style scoped>\n",
              "    .dataframe tbody tr th:only-of-type {\n",
              "        vertical-align: middle;\n",
              "    }\n",
              "\n",
              "    .dataframe tbody tr th {\n",
              "        vertical-align: top;\n",
              "    }\n",
              "\n",
              "    .dataframe thead th {\n",
              "        text-align: right;\n",
              "    }\n",
              "</style>\n",
              "<table border=\"1\" class=\"dataframe\">\n",
              "  <thead>\n",
              "    <tr style=\"text-align: right;\">\n",
              "      <th></th>\n",
              "      <th>tag_frequency</th>\n",
              "    </tr>\n",
              "  </thead>\n",
              "  <tbody>\n",
              "    <tr>\n",
              "      <th>#i</th>\n",
              "      <td>746870</td>\n",
              "    </tr>\n",
              "    <tr>\n",
              "      <th>#to</th>\n",
              "      <td>560929</td>\n",
              "    </tr>\n",
              "    <tr>\n",
              "      <th>#the</th>\n",
              "      <td>518779</td>\n",
              "    </tr>\n",
              "    <tr>\n",
              "      <th>#a</th>\n",
              "      <td>376484</td>\n",
              "    </tr>\n",
              "    <tr>\n",
              "      <th>#my</th>\n",
              "      <td>312992</td>\n",
              "    </tr>\n",
              "    <tr>\n",
              "      <th>#and</th>\n",
              "      <td>296161</td>\n",
              "    </tr>\n",
              "    <tr>\n",
              "      <th>#you</th>\n",
              "      <td>242762</td>\n",
              "    </tr>\n",
              "    <tr>\n",
              "      <th>#is</th>\n",
              "      <td>232060</td>\n",
              "    </tr>\n",
              "    <tr>\n",
              "      <th>#for</th>\n",
              "      <td>214205</td>\n",
              "    </tr>\n",
              "    <tr>\n",
              "      <th>#in</th>\n",
              "      <td>210694</td>\n",
              "    </tr>\n",
              "    <tr>\n",
              "      <th>#it</th>\n",
              "      <td>196591</td>\n",
              "    </tr>\n",
              "    <tr>\n",
              "      <th>#of</th>\n",
              "      <td>182700</td>\n",
              "    </tr>\n",
              "    <tr>\n",
              "      <th>#on</th>\n",
              "      <td>162542</td>\n",
              "    </tr>\n",
              "    <tr>\n",
              "      <th>#so</th>\n",
              "      <td>147727</td>\n",
              "    </tr>\n",
              "    <tr>\n",
              "      <th>#have</th>\n",
              "      <td>143484</td>\n",
              "    </tr>\n",
              "    <tr>\n",
              "      <th>#me</th>\n",
              "      <td>133245</td>\n",
              "    </tr>\n",
              "    <tr>\n",
              "      <th>#that</th>\n",
              "      <td>130716</td>\n",
              "    </tr>\n",
              "    <tr>\n",
              "      <th>#i'm</th>\n",
              "      <td>127632</td>\n",
              "    </tr>\n",
              "    <tr>\n",
              "      <th>#but</th>\n",
              "      <td>125857</td>\n",
              "    </tr>\n",
              "    <tr>\n",
              "      <th>#just</th>\n",
              "      <td>124501</td>\n",
              "    </tr>\n",
              "    <tr>\n",
              "      <th>#with</th>\n",
              "      <td>113631</td>\n",
              "    </tr>\n",
              "    <tr>\n",
              "      <th>#be</th>\n",
              "      <td>110792</td>\n",
              "    </tr>\n",
              "    <tr>\n",
              "      <th>#at</th>\n",
              "      <td>110415</td>\n",
              "    </tr>\n",
              "    <tr>\n",
              "      <th>#was</th>\n",
              "      <td>102981</td>\n",
              "    </tr>\n",
              "    <tr>\n",
              "      <th>#not</th>\n",
              "      <td>102830</td>\n",
              "    </tr>\n",
              "    <tr>\n",
              "      <th>#this</th>\n",
              "      <td>88863</td>\n",
              "    </tr>\n",
              "    <tr>\n",
              "      <th>#get</th>\n",
              "      <td>81003</td>\n",
              "    </tr>\n",
              "    <tr>\n",
              "      <th>#good</th>\n",
              "      <td>79509</td>\n",
              "    </tr>\n",
              "    <tr>\n",
              "      <th>#are</th>\n",
              "      <td>76251</td>\n",
              "    </tr>\n",
              "    <tr>\n",
              "      <th>#up</th>\n",
              "      <td>76241</td>\n",
              "    </tr>\n",
              "    <tr>\n",
              "      <th>...</th>\n",
              "      <td>...</td>\n",
              "    </tr>\n",
              "    <tr>\n",
              "      <th>#bleeeh...bored...my</th>\n",
              "      <td>1</td>\n",
              "    </tr>\n",
              "    <tr>\n",
              "      <th>#@pattenhere</th>\n",
              "      <td>1</td>\n",
              "    </tr>\n",
              "    <tr>\n",
              "      <th>#@viciousj</th>\n",
              "      <td>1</td>\n",
              "    </tr>\n",
              "    <tr>\n",
              "      <th>#@rocketnote</th>\n",
              "      <td>1</td>\n",
              "    </tr>\n",
              "    <tr>\n",
              "      <th>#@viciousb</th>\n",
              "      <td>1</td>\n",
              "    </tr>\n",
              "    <tr>\n",
              "      <th>#@viciousc</th>\n",
              "      <td>1</td>\n",
              "    </tr>\n",
              "    <tr>\n",
              "      <th>#sundaes!!!!!</th>\n",
              "      <td>1</td>\n",
              "    </tr>\n",
              "    <tr>\n",
              "      <th>#go?)i</th>\n",
              "      <td>1</td>\n",
              "    </tr>\n",
              "    <tr>\n",
              "      <th>#cgtextures</th>\n",
              "      <td>1</td>\n",
              "    </tr>\n",
              "    <tr>\n",
              "      <th>##bigbrother.</th>\n",
              "      <td>1</td>\n",
              "    </tr>\n",
              "    <tr>\n",
              "      <th>#465k</th>\n",
              "      <td>1</td>\n",
              "    </tr>\n",
              "    <tr>\n",
              "      <th>#kablaming</th>\n",
              "      <td>1</td>\n",
              "    </tr>\n",
              "    <tr>\n",
              "      <th>#zahlbar38</th>\n",
              "      <td>1</td>\n",
              "    </tr>\n",
              "    <tr>\n",
              "      <th>#@haleyfaye</th>\n",
              "      <td>1</td>\n",
              "    </tr>\n",
              "    <tr>\n",
              "      <th>#http://tinyurl.com/nd592o</th>\n",
              "      <td>1</td>\n",
              "    </tr>\n",
              "    <tr>\n",
              "      <th>#planned...headed</th>\n",
              "      <td>1</td>\n",
              "    </tr>\n",
              "    <tr>\n",
              "      <th>#@jeverington</th>\n",
              "      <td>1</td>\n",
              "    </tr>\n",
              "    <tr>\n",
              "      <th>#vip...come</th>\n",
              "      <td>1</td>\n",
              "    </tr>\n",
              "    <tr>\n",
              "      <th>#wilkinson</th>\n",
              "      <td>1</td>\n",
              "    </tr>\n",
              "    <tr>\n",
              "      <th>#grover.</th>\n",
              "      <td>1</td>\n",
              "    </tr>\n",
              "    <tr>\n",
              "      <th>#01.20am...</th>\n",
              "      <td>1</td>\n",
              "    </tr>\n",
              "    <tr>\n",
              "      <th>#rain.....but</th>\n",
              "      <td>1</td>\n",
              "    </tr>\n",
              "    <tr>\n",
              "      <th>#lonely........</th>\n",
              "      <td>1</td>\n",
              "    </tr>\n",
              "    <tr>\n",
              "      <th>#artikel.</th>\n",
              "      <td>1</td>\n",
              "    </tr>\n",
              "    <tr>\n",
              "      <th>#@ashuyeah</th>\n",
              "      <td>1</td>\n",
              "    </tr>\n",
              "    <tr>\n",
              "      <th>#prozac!</th>\n",
              "      <td>1</td>\n",
              "    </tr>\n",
              "    <tr>\n",
              "      <th>#@heirophantress</th>\n",
              "      <td>1</td>\n",
              "    </tr>\n",
              "    <tr>\n",
              "      <th>#@promomarketer</th>\n",
              "      <td>1</td>\n",
              "    </tr>\n",
              "    <tr>\n",
              "      <th>#sdcc!!</th>\n",
              "      <td>1</td>\n",
              "    </tr>\n",
              "    <tr>\n",
              "      <th>#@jujubean0273</th>\n",
              "      <td>1</td>\n",
              "    </tr>\n",
              "  </tbody>\n",
              "</table>\n",
              "<p>1153408 rows × 1 columns</p>\n",
              "</div>"
            ],
            "text/plain": [
              "                            tag_frequency\n",
              "#i                                 746870\n",
              "#to                                560929\n",
              "#the                               518779\n",
              "#a                                 376484\n",
              "#my                                312992\n",
              "#and                               296161\n",
              "#you                               242762\n",
              "#is                                232060\n",
              "#for                               214205\n",
              "#in                                210694\n",
              "#it                                196591\n",
              "#of                                182700\n",
              "#on                                162542\n",
              "#so                                147727\n",
              "#have                              143484\n",
              "#me                                133245\n",
              "#that                              130716\n",
              "#i'm                               127632\n",
              "#but                               125857\n",
              "#just                              124501\n",
              "#with                              113631\n",
              "#be                                110792\n",
              "#at                                110415\n",
              "#was                               102981\n",
              "#not                               102830\n",
              "#this                               88863\n",
              "#get                                81003\n",
              "#good                               79509\n",
              "#are                                76251\n",
              "#up                                 76241\n",
              "...                                   ...\n",
              "#bleeeh...bored...my                    1\n",
              "#@pattenhere                            1\n",
              "#@viciousj                              1\n",
              "#@rocketnote                            1\n",
              "#@viciousb                              1\n",
              "#@viciousc                              1\n",
              "#sundaes!!!!!                           1\n",
              "#go?)i                                  1\n",
              "#cgtextures                             1\n",
              "##bigbrother.                           1\n",
              "#465k                                   1\n",
              "#kablaming                              1\n",
              "#zahlbar38                              1\n",
              "#@haleyfaye                             1\n",
              "#http://tinyurl.com/nd592o              1\n",
              "#planned...headed                       1\n",
              "#@jeverington                           1\n",
              "#vip...come                             1\n",
              "#wilkinson                              1\n",
              "#grover.                                1\n",
              "#01.20am...                             1\n",
              "#rain.....but                           1\n",
              "#lonely........                         1\n",
              "#artikel.                               1\n",
              "#@ashuyeah                              1\n",
              "#prozac!                                1\n",
              "#@heirophantress                        1\n",
              "#@promomarketer                         1\n",
              "#sdcc!!                                 1\n",
              "#@jujubean0273                          1\n",
              "\n",
              "[1153408 rows x 1 columns]"
            ]
          },
          "metadata": {
            "tags": []
          },
          "execution_count": 121
        }
      ]
    },
    {
      "cell_type": "code",
      "metadata": {
        "id": "_5I-zGOgWVN6",
        "colab_type": "code",
        "colab": {}
      },
      "source": [
        "def count_hashtags(s):\n",
        "    hashtag_list_v3 = []     #CREATE EMPTY LIST \n",
        "    for i in s:           #LOOP OVER ITEMS IN 'S'\n",
        "        hashtag = filter(lambda x: x.startswith('#'),i.split()) \n",
        "        hashtag = map(lambda x: x.strip('/;,-.:!?\"''()'),hashtag)  ##remove the indicated punctuations\n",
        "        hashtag = map(lambda x: x.strip(),hashtag)    #STRIP REMOVES \n",
        "        hashtag = map(lambda x: x.lower(),hashtag)    #IF WE WANT LOWER CASE TAGS (OTHERWISE, COUNT IS CASE SENSITIVE)\n",
        "        hashtag_list_v3.extend(hashtag)  \n",
        "    return DataFrame(Series(hashtag_list_v3).value_counts())"
      ],
      "execution_count": 0,
      "outputs": []
    },
    {
      "cell_type": "code",
      "metadata": {
        "id": "wktIob0XXECV",
        "colab_type": "code",
        "outputId": "c2ecf4d2-54bf-4f6f-be89-9b666d99bcb0",
        "colab": {
          "base_uri": "https://localhost:8080/",
          "height": 1969
        }
      },
      "source": [
        "count_hashtags(pdf._c5)  #INVOKE FUNCTION AND PROVIDE NAME TO DATAFRAME"
      ],
      "execution_count": 0,
      "outputs": [
        {
          "output_type": "execute_result",
          "data": {
            "text/html": [
              "<div>\n",
              "<style scoped>\n",
              "    .dataframe tbody tr th:only-of-type {\n",
              "        vertical-align: middle;\n",
              "    }\n",
              "\n",
              "    .dataframe tbody tr th {\n",
              "        vertical-align: top;\n",
              "    }\n",
              "\n",
              "    .dataframe thead th {\n",
              "        text-align: right;\n",
              "    }\n",
              "</style>\n",
              "<table border=\"1\" class=\"dataframe\">\n",
              "  <thead>\n",
              "    <tr style=\"text-align: right;\">\n",
              "      <th></th>\n",
              "      <th>0</th>\n",
              "    </tr>\n",
              "  </thead>\n",
              "  <tbody>\n",
              "    <tr>\n",
              "      <th>#followfriday</th>\n",
              "      <td>2593</td>\n",
              "    </tr>\n",
              "    <tr>\n",
              "      <th>#fb</th>\n",
              "      <td>1770</td>\n",
              "    </tr>\n",
              "    <tr>\n",
              "      <th>#ff</th>\n",
              "      <td>958</td>\n",
              "    </tr>\n",
              "    <tr>\n",
              "      <th>#squarespace</th>\n",
              "      <td>929</td>\n",
              "    </tr>\n",
              "    <tr>\n",
              "      <th>#</th>\n",
              "      <td>545</td>\n",
              "    </tr>\n",
              "    <tr>\n",
              "      <th>#iranelection</th>\n",
              "      <td>508</td>\n",
              "    </tr>\n",
              "    <tr>\n",
              "      <th>#seb-day</th>\n",
              "      <td>499</td>\n",
              "    </tr>\n",
              "    <tr>\n",
              "      <th>#1</th>\n",
              "      <td>480</td>\n",
              "    </tr>\n",
              "    <tr>\n",
              "      <th>#musicmonday</th>\n",
              "      <td>413</td>\n",
              "    </tr>\n",
              "    <tr>\n",
              "      <th>#fail</th>\n",
              "      <td>362</td>\n",
              "    </tr>\n",
              "    <tr>\n",
              "      <th>#asot400</th>\n",
              "      <td>324</td>\n",
              "    </tr>\n",
              "    <tr>\n",
              "      <th>#iphone</th>\n",
              "      <td>314</td>\n",
              "    </tr>\n",
              "    <tr>\n",
              "      <th>#2</th>\n",
              "      <td>307</td>\n",
              "    </tr>\n",
              "    <tr>\n",
              "      <th>#iremember</th>\n",
              "      <td>294</td>\n",
              "    </tr>\n",
              "    <tr>\n",
              "      <th>#bsb</th>\n",
              "      <td>292</td>\n",
              "    </tr>\n",
              "    <tr>\n",
              "      <th>#myweakness</th>\n",
              "      <td>268</td>\n",
              "    </tr>\n",
              "    <tr>\n",
              "      <th>#marsiscoming</th>\n",
              "      <td>258</td>\n",
              "    </tr>\n",
              "    <tr>\n",
              "      <th>#f1</th>\n",
              "      <td>258</td>\n",
              "    </tr>\n",
              "    <tr>\n",
              "      <th>#e3</th>\n",
              "      <td>251</td>\n",
              "    </tr>\n",
              "    <tr>\n",
              "      <th>#bgt</th>\n",
              "      <td>244</td>\n",
              "    </tr>\n",
              "    <tr>\n",
              "      <th>#mcflyforgermany</th>\n",
              "      <td>230</td>\n",
              "    </tr>\n",
              "    <tr>\n",
              "      <th>#andyhurleyday</th>\n",
              "      <td>188</td>\n",
              "    </tr>\n",
              "    <tr>\n",
              "      <th>#inaperfectworld</th>\n",
              "      <td>184</td>\n",
              "    </tr>\n",
              "    <tr>\n",
              "      <th>#haveyouever</th>\n",
              "      <td>172</td>\n",
              "    </tr>\n",
              "    <tr>\n",
              "      <th>#spymaster</th>\n",
              "      <td>169</td>\n",
              "    </tr>\n",
              "    <tr>\n",
              "      <th>#delongeday</th>\n",
              "      <td>167</td>\n",
              "    </tr>\n",
              "    <tr>\n",
              "      <th>#trackle</th>\n",
              "      <td>161</td>\n",
              "    </tr>\n",
              "    <tr>\n",
              "      <th>#mileymonday</th>\n",
              "      <td>160</td>\n",
              "    </tr>\n",
              "    <tr>\n",
              "      <th>#tcot</th>\n",
              "      <td>158</td>\n",
              "    </tr>\n",
              "    <tr>\n",
              "      <th>#goodsex</th>\n",
              "      <td>130</td>\n",
              "    </tr>\n",
              "    <tr>\n",
              "      <th>...</th>\n",
              "      <td>...</td>\n",
              "    </tr>\n",
              "    <tr>\n",
              "      <th>#bunday</th>\n",
              "      <td>1</td>\n",
              "    </tr>\n",
              "    <tr>\n",
              "      <th>#ironman2</th>\n",
              "      <td>1</td>\n",
              "    </tr>\n",
              "    <tr>\n",
              "      <th>#firefox's</th>\n",
              "      <td>1</td>\n",
              "    </tr>\n",
              "    <tr>\n",
              "      <th>#diggshout</th>\n",
              "      <td>1</td>\n",
              "    </tr>\n",
              "    <tr>\n",
              "      <th>#belgrade</th>\n",
              "      <td>1</td>\n",
              "    </tr>\n",
              "    <tr>\n",
              "      <th>#followfriday]</th>\n",
              "      <td>1</td>\n",
              "    </tr>\n",
              "    <tr>\n",
              "      <th>#mostboringtweets</th>\n",
              "      <td>1</td>\n",
              "    </tr>\n",
              "    <tr>\n",
              "      <th>#bsg/#caprica</th>\n",
              "      <td>1</td>\n",
              "    </tr>\n",
              "    <tr>\n",
              "      <th>#biall2009</th>\n",
              "      <td>1</td>\n",
              "    </tr>\n",
              "    <tr>\n",
              "      <th>#samaya</th>\n",
              "      <td>1</td>\n",
              "    </tr>\n",
              "    <tr>\n",
              "      <th>#greek</th>\n",
              "      <td>1</td>\n",
              "    </tr>\n",
              "    <tr>\n",
              "      <th>#phish~</th>\n",
              "      <td>1</td>\n",
              "    </tr>\n",
              "    <tr>\n",
              "      <th>#ovos</th>\n",
              "      <td>1</td>\n",
              "    </tr>\n",
              "    <tr>\n",
              "      <th>#quadcamera</th>\n",
              "      <td>1</td>\n",
              "    </tr>\n",
              "    <tr>\n",
              "      <th>#pianomusic</th>\n",
              "      <td>1</td>\n",
              "    </tr>\n",
              "    <tr>\n",
              "      <th>#pinte</th>\n",
              "      <td>1</td>\n",
              "    </tr>\n",
              "    <tr>\n",
              "      <th>#yourenotehelping</th>\n",
              "      <td>1</td>\n",
              "    </tr>\n",
              "    <tr>\n",
              "      <th>#supersaturday</th>\n",
              "      <td>1</td>\n",
              "    </tr>\n",
              "    <tr>\n",
              "      <th>#virginatlantic</th>\n",
              "      <td>1</td>\n",
              "    </tr>\n",
              "    <tr>\n",
              "      <th>#bonaventure</th>\n",
              "      <td>1</td>\n",
              "    </tr>\n",
              "    <tr>\n",
              "      <th>#xmind</th>\n",
              "      <td>1</td>\n",
              "    </tr>\n",
              "    <tr>\n",
              "      <th>#msufail</th>\n",
              "      <td>1</td>\n",
              "    </tr>\n",
              "    <tr>\n",
              "      <th>#onceayearjoke</th>\n",
              "      <td>1</td>\n",
              "    </tr>\n",
              "    <tr>\n",
              "      <th>#croatia</th>\n",
              "      <td>1</td>\n",
              "    </tr>\n",
              "    <tr>\n",
              "      <th>#ipodto</th>\n",
              "      <td>1</td>\n",
              "    </tr>\n",
              "    <tr>\n",
              "      <th>#ibe09</th>\n",
              "      <td>1</td>\n",
              "    </tr>\n",
              "    <tr>\n",
              "      <th>#suu</th>\n",
              "      <td>1</td>\n",
              "    </tr>\n",
              "    <tr>\n",
              "      <th>#ffrecommend</th>\n",
              "      <td>1</td>\n",
              "    </tr>\n",
              "    <tr>\n",
              "      <th>#bssoss</th>\n",
              "      <td>1</td>\n",
              "    </tr>\n",
              "    <tr>\n",
              "      <th>#twithive</th>\n",
              "      <td>1</td>\n",
              "    </tr>\n",
              "  </tbody>\n",
              "</table>\n",
              "<p>12467 rows × 1 columns</p>\n",
              "</div>"
            ],
            "text/plain": [
              "                      0\n",
              "#followfriday      2593\n",
              "#fb                1770\n",
              "#ff                 958\n",
              "#squarespace        929\n",
              "#                   545\n",
              "#iranelection       508\n",
              "#seb-day            499\n",
              "#1                  480\n",
              "#musicmonday        413\n",
              "#fail               362\n",
              "#asot400            324\n",
              "#iphone             314\n",
              "#2                  307\n",
              "#iremember          294\n",
              "#bsb                292\n",
              "#myweakness         268\n",
              "#marsiscoming       258\n",
              "#f1                 258\n",
              "#e3                 251\n",
              "#bgt                244\n",
              "#mcflyforgermany    230\n",
              "#andyhurleyday      188\n",
              "#inaperfectworld    184\n",
              "#haveyouever        172\n",
              "#spymaster          169\n",
              "#delongeday         167\n",
              "#trackle            161\n",
              "#mileymonday        160\n",
              "#tcot               158\n",
              "#goodsex            130\n",
              "...                 ...\n",
              "#bunday               1\n",
              "#ironman2             1\n",
              "#firefox's            1\n",
              "#diggshout            1\n",
              "#belgrade             1\n",
              "#followfriday]        1\n",
              "#mostboringtweets     1\n",
              "#bsg/#caprica         1\n",
              "#biall2009            1\n",
              "#samaya               1\n",
              "#greek                1\n",
              "#phish~               1\n",
              "#ovos                 1\n",
              "#quadcamera           1\n",
              "#pianomusic           1\n",
              "#pinte                1\n",
              "#yourenotehelping     1\n",
              "#supersaturday        1\n",
              "#virginatlantic       1\n",
              "#bonaventure          1\n",
              "#xmind                1\n",
              "#msufail              1\n",
              "#onceayearjoke        1\n",
              "#croatia              1\n",
              "#ipodto               1\n",
              "#ibe09                1\n",
              "#suu                  1\n",
              "#ffrecommend          1\n",
              "#bssoss               1\n",
              "#twithive             1\n",
              "\n",
              "[12467 rows x 1 columns]"
            ]
          },
          "metadata": {
            "tags": []
          },
          "execution_count": 124
        }
      ]
    },
    {
      "cell_type": "code",
      "metadata": {
        "id": "NQq4rHSkXLAu",
        "colab_type": "code",
        "outputId": "0bde33cd-80c8-42e5-86d6-ff94f74f4a25",
        "colab": {
          "base_uri": "https://localhost:8080/",
          "height": 34
        }
      },
      "source": [
        "#cnt_hashtags['tag_frequency'].plot()\n",
        "cnt_hashtags_filtered = cnt_hashtags[(cnt_hashtags['tag_frequency'] >= 100)] #ignore less than 10\n",
        "len(cnt_hashtags_filtered)\n"
      ],
      "execution_count": 0,
      "outputs": [
        {
          "output_type": "execute_result",
          "data": {
            "text/plain": [
              "9969"
            ]
          },
          "metadata": {
            "tags": []
          },
          "execution_count": 155
        }
      ]
    },
    {
      "cell_type": "code",
      "metadata": {
        "id": "JqgAsrqeaRtU",
        "colab_type": "code",
        "colab": {}
      },
      "source": [
        "import matplotlib\n",
        "import matplotlib.pyplot as plt\n",
        "from pylab import*\n",
        "import seaborn as sns\n",
        "plt.rcParams['figure.figsize'] = (15, 5)"
      ],
      "execution_count": 0,
      "outputs": []
    },
    {
      "cell_type": "code",
      "metadata": {
        "id": "5wKdZjzgZZfF",
        "colab_type": "code",
        "outputId": "c5f55858-6a7d-478c-e7d9-3b64c0c1322b",
        "colab": {
          "base_uri": "https://localhost:8080/",
          "height": 320
        }
      },
      "source": [
        "density_plot = cnt_hashtags_filtered['tag_frequency'].hist(bins=100, alpha=0.75)"
      ],
      "execution_count": 0,
      "outputs": [
        {
          "output_type": "display_data",
          "data": {
            "image/png": "[encoded data removed]",
            "text/plain": [
              "<Figure size 1080x360 with 1 Axes>"
            ]
          },
          "metadata": {
            "tags": []
          }
        }
      ]
    },
    {
      "cell_type": "code",
      "metadata": {
        "id": "GqYJT46DanEM",
        "colab_type": "code",
        "outputId": "228bb14e-252a-4966-cf0c-4b5ec132c75b",
        "colab": {
          "base_uri": "https://localhost:8080/",
          "height": 320
        }
      },
      "source": [
        "cnt_hashtags['tag_frequency'].plot()"
      ],
      "execution_count": 0,
      "outputs": [
        {
          "output_type": "execute_result",
          "data": {
            "text/plain": [
              "<matplotlib.axes._subplots.AxesSubplot at 0x7f28ecc7bc10>"
            ]
          },
          "metadata": {
            "tags": []
          },
          "execution_count": 157
        },
        {
          "output_type": "display_data",
          "data": {
            "image/png": "[encoded data removed]",
            "text/plain": [
              "<Figure size 1080x360 with 1 Axes>"
            ]
          },
          "metadata": {
            "tags": []
          }
        }
      ]
    },
    {
      "cell_type": "code",
      "metadata": {
        "id": "nvcvtnyZaqtC",
        "colab_type": "code",
        "outputId": "834b09d3-64b4-45d6-a999-36a7fae3f66e",
        "colab": {
          "base_uri": "https://localhost:8080/",
          "height": 1071
        }
      },
      "source": [
        "cnt_hashtags['tag_frequency'].value_counts()"
      ],
      "execution_count": 0,
      "outputs": [
        {
          "output_type": "execute_result",
          "data": {
            "text/plain": [
              "1         824031\n",
              "2         130519\n",
              "3          53561\n",
              "4          29678\n",
              "5          18938\n",
              "6          13135\n",
              "7           9666\n",
              "8           7548\n",
              "9           5994\n",
              "10          4884\n",
              "11          4067\n",
              "12          3360\n",
              "13          2953\n",
              "14          2463\n",
              "15          2263\n",
              "16          1934\n",
              "17          1774\n",
              "18          1567\n",
              "19          1441\n",
              "20          1326\n",
              "21          1185\n",
              "22          1030\n",
              "23          1001\n",
              "24           942\n",
              "25           833\n",
              "26           813\n",
              "27           728\n",
              "28           696\n",
              "29           616\n",
              "31           573\n",
              "           ...  \n",
              "604            1\n",
              "2653           1\n",
              "3661           1\n",
              "6735           1\n",
              "5685           1\n",
              "8776           1\n",
              "1591           1\n",
              "18993          1\n",
              "1592           1\n",
              "312992         1\n",
              "6714           1\n",
              "2618           1\n",
              "6718           1\n",
              "5692           1\n",
              "1598           1\n",
              "2622           1\n",
              "38445          1\n",
              "1600           1\n",
              "3650           1\n",
              "1603           1\n",
              "14915          1\n",
              "2628           1\n",
              "1605           1\n",
              "5700           1\n",
              "1606           1\n",
              "2632           1\n",
              "14926          1\n",
              "6729           1\n",
              "3658           1\n",
              "9220           1\n",
              "Name: tag_frequency, Length: 2316, dtype: int64"
            ]
          },
          "metadata": {
            "tags": []
          },
          "execution_count": 158
        }
      ]
    },
    {
      "cell_type": "code",
      "metadata": {
        "id": "18MljAEOa_ZO",
        "colab_type": "code",
        "outputId": "63f8bcb2-dbe0-4ec1-9762-de07d9415f99",
        "colab": {
          "base_uri": "https://localhost:8080/",
          "height": 51
        }
      },
      "source": [
        "#cnt_hashtags['tag_frequency'].plot()\n",
        "cnt_hashtags_single = cnt_hashtags[(cnt_hashtags['tag_frequency'] == 1)] #ignore less than 10\n",
        "print len(cnt_hashtags_single)\n",
        "print len(cnt_hashtags)\n"
      ],
      "execution_count": 0,
      "outputs": [
        {
          "output_type": "stream",
          "text": [
            "824031\n",
            "1153408\n"
          ],
          "name": "stdout"
        }
      ]
    },
    {
      "cell_type": "code",
      "metadata": {
        "id": "1SHTtK_naubv",
        "colab_type": "code",
        "outputId": "519d3145-315f-4463-9c98-e059eef986fa",
        "colab": {
          "base_uri": "https://localhost:8080/",
          "height": 180
        }
      },
      "source": [
        "from __future__ import division\n",
        "len(cnt_hashtags_single)/len(cnt_hashtags) #percentage of single hashtags"
      ],
      "execution_count": 0,
      "outputs": [
        {
          "output_type": "error",
          "ename": "NameError",
          "evalue": "ignored",
          "traceback": [
            "\u001b[0;31m\u001b[0m",
            "\u001b[0;31mNameError\u001b[0mTraceback (most recent call last)",
            "\u001b[0;32m<ipython-input-33-f526fe81393b>\u001b[0m in \u001b[0;36m<module>\u001b[0;34m()\u001b[0m\n\u001b[1;32m      1\u001b[0m \u001b[0;32mfrom\u001b[0m \u001b[0m__future__\u001b[0m \u001b[0;32mimport\u001b[0m \u001b[0mdivision\u001b[0m\u001b[0;34m\u001b[0m\u001b[0m\n\u001b[0;32m----> 2\u001b[0;31m \u001b[0mlen\u001b[0m\u001b[0;34m(\u001b[0m\u001b[0mcnt_hashtags_single\u001b[0m\u001b[0;34m)\u001b[0m\u001b[0;34m/\u001b[0m\u001b[0mlen\u001b[0m\u001b[0;34m(\u001b[0m\u001b[0mcnt_hashtags\u001b[0m\u001b[0;34m)\u001b[0m \u001b[0;31m#percentage of single hashtags\u001b[0m\u001b[0;34m\u001b[0m\u001b[0m\n\u001b[0m",
            "\u001b[0;31mNameError\u001b[0m: name 'cnt_hashtags_single' is not defined"
          ]
        }
      ]
    },
    {
      "cell_type": "code",
      "metadata": {
        "id": "AP46RJfAbOcK",
        "colab_type": "code",
        "outputId": "57841c6d-6187-40eb-c08b-bd845c7f0337",
        "colab": {
          "base_uri": "https://localhost:8080/",
          "height": 1071
        }
      },
      "source": [
        "cnt_hashtags['tag_frequency'].value_counts(normalize=True)"
      ],
      "execution_count": 0,
      "outputs": [
        {
          "output_type": "execute_result",
          "data": {
            "text/plain": [
              "1         7.144315e-01\n",
              "2         1.131594e-01\n",
              "3         4.643717e-02\n",
              "4         2.573070e-02\n",
              "5         1.641917e-02\n",
              "6         1.138799e-02\n",
              "7         8.380382e-03\n",
              "8         6.544085e-03\n",
              "9         5.196773e-03\n",
              "10        4.234408e-03\n",
              "11        3.526072e-03\n",
              "12        2.913106e-03\n",
              "13        2.560239e-03\n",
              "14        2.135411e-03\n",
              "15        1.962012e-03\n",
              "16        1.676770e-03\n",
              "17        1.538051e-03\n",
              "18        1.358583e-03\n",
              "19        1.249341e-03\n",
              "20        1.149637e-03\n",
              "21        1.027390e-03\n",
              "22        8.930058e-04\n",
              "23        8.678629e-04\n",
              "24        8.167101e-04\n",
              "25        7.222076e-04\n",
              "26        7.048677e-04\n",
              "27        6.311730e-04\n",
              "28        6.034291e-04\n",
              "29        5.340695e-04\n",
              "31        4.967886e-04\n",
              "              ...     \n",
              "604       8.669959e-07\n",
              "2653      8.669959e-07\n",
              "3661      8.669959e-07\n",
              "6735      8.669959e-07\n",
              "5685      8.669959e-07\n",
              "8776      8.669959e-07\n",
              "1591      8.669959e-07\n",
              "18993     8.669959e-07\n",
              "1592      8.669959e-07\n",
              "312992    8.669959e-07\n",
              "6714      8.669959e-07\n",
              "2618      8.669959e-07\n",
              "6718      8.669959e-07\n",
              "5692      8.669959e-07\n",
              "1598      8.669959e-07\n",
              "2622      8.669959e-07\n",
              "38445     8.669959e-07\n",
              "1600      8.669959e-07\n",
              "3650      8.669959e-07\n",
              "1603      8.669959e-07\n",
              "14915     8.669959e-07\n",
              "2628      8.669959e-07\n",
              "1605      8.669959e-07\n",
              "5700      8.669959e-07\n",
              "1606      8.669959e-07\n",
              "2632      8.669959e-07\n",
              "14926     8.669959e-07\n",
              "6729      8.669959e-07\n",
              "3658      8.669959e-07\n",
              "9220      8.669959e-07\n",
              "Name: tag_frequency, Length: 2316, dtype: float64"
            ]
          },
          "metadata": {
            "tags": []
          },
          "execution_count": 164
        }
      ]
    },
    {
      "cell_type": "code",
      "metadata": {
        "id": "OrhP8Y5wbQab",
        "colab_type": "code",
        "outputId": "c1b27b7c-feeb-4bfe-bbe0-64d34b963443",
        "colab": {
          "base_uri": "https://localhost:8080/",
          "height": 362
        }
      },
      "source": [
        "cnt_hashtags['tag_frequency'][90:100].plot(kind='bar')"
      ],
      "execution_count": 0,
      "outputs": [
        {
          "output_type": "execute_result",
          "data": {
            "text/plain": [
              "<matplotlib.axes._subplots.AxesSubplot at 0x7f28ecc10bd0>"
            ]
          },
          "metadata": {
            "tags": []
          },
          "execution_count": 165
        },
        {
          "output_type": "display_data",
          "data": {
            "image/png": "[encoded data removed]",
            "text/plain": [
              "<Figure size 1080x360 with 1 Axes>"
            ]
          },
          "metadata": {
            "tags": []
          }
        }
      ]
    },
    {
      "cell_type": "code",
      "metadata": {
        "id": "rMy2zEU0bZ3U",
        "colab_type": "code",
        "outputId": "ea0f303f-991a-4634-d0be-c1bb15fcfd4a",
        "colab": {
          "base_uri": "https://localhost:8080/",
          "height": 459
        }
      },
      "source": [
        "cnt_hashtags['tag_frequency'][:25]"
      ],
      "execution_count": 0,
      "outputs": [
        {
          "output_type": "execute_result",
          "data": {
            "text/plain": [
              "#i       746870\n",
              "#to      560929\n",
              "#the     518779\n",
              "#a       376484\n",
              "#my      312992\n",
              "#and     296161\n",
              "#you     242762\n",
              "#is      232060\n",
              "#for     214205\n",
              "#in      210694\n",
              "#it      196591\n",
              "#of      182700\n",
              "#on      162542\n",
              "#so      147727\n",
              "#have    143484\n",
              "#me      133245\n",
              "#that    130716\n",
              "#i'm     127632\n",
              "#but     125857\n",
              "#just    124501\n",
              "#with    113631\n",
              "#be      110792\n",
              "#at      110415\n",
              "#was     102981\n",
              "#not     102830\n",
              "Name: tag_frequency, dtype: int64"
            ]
          },
          "metadata": {
            "tags": []
          },
          "execution_count": 167
        }
      ]
    },
    {
      "cell_type": "code",
      "metadata": {
        "id": "__bB9XDqbUKS",
        "colab_type": "code",
        "outputId": "61b2cf8b-940b-4197-cd99-e39f7e04814d",
        "colab": {
          "base_uri": "https://localhost:8080/",
          "height": 330
        }
      },
      "source": [
        "cnt_hashtags['tag_frequency'][:25].plot(kind='bar')\n",
        "axhline(0, color='k')\n",
        "#title('Top 25 hashtags')\n",
        "xticks(fontsize = 9,rotation = 30, ha='right')\n",
        "savefig('25 most popular tags.png', bbox_inches='tight', dpi=300, format='png')\n",
        "show()"
      ],
      "execution_count": 0,
      "outputs": [
        {
          "output_type": "display_data",
          "data": {
            "image/png": "[encoded data removed]",
            "text/plain": [
              "<Figure size 1080x360 with 1 Axes>"
            ]
          },
          "metadata": {
            "tags": []
          }
        }
      ]
    },
    {
      "cell_type": "code",
      "metadata": {
        "id": "DS19tTYCbd4F",
        "colab_type": "code",
        "outputId": "09752aa3-897e-456f-c724-41a0a515da2a",
        "colab": {
          "base_uri": "https://localhost:8080/",
          "height": 335
        }
      },
      "source": [
        "cnt_hashtags['tag_frequency'].head(50).plot(kind='bar')\n",
        "axhline(0, color='k')\n",
        "#title('Top 50 hashtags')\n",
        "xticks(fontsize = 9,rotation = 45, ha='right')\n",
        "savefig('50 most popular tags.png', bbox_inches='tight', dpi=300, format='png')\n",
        "show()"
      ],
      "execution_count": 0,
      "outputs": [
        {
          "output_type": "display_data",
          "data": {
            "image/png": "[encoded data removed]",
            "text/plain": [
              "<Figure size 1080x360 with 1 Axes>"
            ]
          },
          "metadata": {
            "tags": []
          }
        }
      ]
    },
    {
      "cell_type": "code",
      "metadata": {
        "id": "UhvIUUmybnBk",
        "colab_type": "code",
        "colab": {}
      },
      "source": [
        "all_tags = []\n",
        "for index, row in pdf.iterrows():    \n",
        "        if pd.notnull(row['_c5']):\n",
        "            tags = row['_c5'].lower()\n",
        "            #print tags\n",
        "        else:\n",
        "            tags = ''\n",
        "            #print row['_c5'], \" -- No hashtags in tweet\"\n",
        "        tags = tags.replace(',','')\n",
        "        all_tags.append(tags) \n",
        "        \n",
        "all_hashtags = ' '.join(all_tags)"
      ],
      "execution_count": 0,
      "outputs": []
    },
    {
      "cell_type": "code",
      "metadata": {
        "id": "IrdULwrqb0EI",
        "colab_type": "code",
        "outputId": "3bed92ca-03b7-4ee5-b570-bab70e6ac377",
        "colab": {
          "base_uri": "https://localhost:8080/",
          "height": 54
        }
      },
      "source": [
        "print all_hashtags[:1000] "
      ],
      "execution_count": 0,
      "outputs": [
        {
          "output_type": "stream",
          "text": [
            "@switchfoot http://twitpic.com/2y1zl - awww that's a bummer.  you shoulda got david carr of third day to do it. ;d is upset that he can't update his facebook by texting it... and might cry as a result  school today also. blah! @kenichan i dived many times for the ball. managed to save 50%  the rest go out of bounds my whole body feels itchy and like its on fire  @nationwideclass no it's not behaving at all. i'm mad. why am i here? because i can't see you all over there.  @kwesidei not the whole crew  need a hug  @loltrish hey  long time no see! yes.. rains a bit only a bit  lol  i'm fine thanks  how's you ? @tatiana_k nope they didn't have it  @twittera que me muera ?  spring break in plain city... it's snowing  i just re-pierced my ears  @caregiving i couldn't bear to watch it.  and i thought the ua loss was embarrassing . . . . . @octolinz16 it it counts idk why i did either. you never talk to me anymore  @smarrison i would've been the first but i didn't have a gun.    not really tho\n"
          ],
          "name": "stdout"
        }
      ]
    },
    {
      "cell_type": "code",
      "metadata": {
        "id": "egudfw60b1uy",
        "colab_type": "code",
        "colab": {}
      },
      "source": [
        "from wordcloud import WordCloud"
      ],
      "execution_count": 0,
      "outputs": []
    },
    {
      "cell_type": "code",
      "metadata": {
        "id": "xBJeyMtpb3Ue",
        "colab_type": "code",
        "outputId": "9432069e-7ae9-471a-fc1f-8f45dda609fe",
        "colab": {
          "base_uri": "https://localhost:8080/",
          "height": 323
        }
      },
      "source": [
        "wordcloud = WordCloud().generate(all_hashtags)\n",
        "plt.imshow(wordcloud)\n",
        "plt.axis(\"off\")\n",
        "plt.show()"
      ],
      "execution_count": 0,
      "outputs": [
        {
          "output_type": "display_data",
          "data": {
            "image/png": "[encoded data removed]",
            "text/plain": [
              "<Figure size 1080x360 with 1 Axes>"
            ]
          },
          "metadata": {
            "tags": []
          }
        }
      ]
    },
    {
      "cell_type": "code",
      "metadata": {
        "id": "FN6YvM1Ge_Sq",
        "colab_type": "code",
        "outputId": "628f1747-6b0e-45ea-e20f-72aedfac8489",
        "colab": {
          "base_uri": "https://localhost:8080/",
          "height": 51
        }
      },
      "source": [
        "all_hashtags_filtered = all_hashtags[1:10000]\n",
        "print type(all_hashtags)\n",
        "print type(all_hashtags_filtered)"
      ],
      "execution_count": 0,
      "outputs": [
        {
          "output_type": "stream",
          "text": [
            "<type 'unicode'>\n",
            "<type 'unicode'>\n"
          ],
          "name": "stdout"
        }
      ]
    },
    {
      "cell_type": "code",
      "metadata": {
        "id": "sNJH0O_9b7SJ",
        "colab_type": "code",
        "outputId": "8193b477-35e0-4516-bf53-9ddc42ed20f8",
        "colab": {
          "base_uri": "https://localhost:8080/",
          "height": 324
        }
      },
      "source": [
        "wordcloud = WordCloud(background_color='white',\n",
        "                      width=5600,\n",
        "                      height=2800\n",
        "                     ).generate(all_hashtags_filtered)\n",
        "plt.imshow(wordcloud)\n",
        "plt.axis('off')\n",
        "plt.show()"
      ],
      "execution_count": 0,
      "outputs": [
        {
          "output_type": "display_data",
          "data": {
            "image/png": "[encoded data removed]",
            "text/plain": [
              "<Figure size 1080x360 with 1 Axes>"
            ]
          },
          "metadata": {
            "tags": []
          }
        }
      ]
    },
    {
      "cell_type": "code",
      "metadata": {
        "id": "CbgI14XLcE2V",
        "colab_type": "code",
        "colab": {}
      },
      "source": [
        "from IPython.display import Image\n",
        "Image(width=800, filename='CSR tag cloud - wordle.png') "
      ],
      "execution_count": 0,
      "outputs": []
    },
    {
      "cell_type": "code",
      "metadata": {
        "id": "nRlDCkjNcGIN",
        "colab_type": "code",
        "colab": {}
      },
      "source": [
        "from IPython.display import Image\n",
        "Image(width=800, filename='CSR tag cloud (wordle - Kenyan Coffee).png') "
      ],
      "execution_count": 0,
      "outputs": []
    },
    {
      "cell_type": "markdown",
      "metadata": {
        "id": "GXZxhzfGh8Tz",
        "colab_type": "text"
      },
      "source": [
        "## CountVectorizer + IDF + Logistic Regression"
      ]
    },
    {
      "cell_type": "markdown",
      "metadata": {
        "id": "O2tJUg8lh8T0",
        "colab_type": "text"
      },
      "source": [
        "There's another way that you can get term frequecy for IDF (Inverse Document Freqeuncy) calculation. It is CountVectorizer in SparkML. Apart from the reversibility of the features (vocabularies), there is an important difference in how each of them filters top features. In case of HashingTF it is dimensionality reduction with possible collisions. CountVectorizer discards infrequent tokens.\n",
        "\n",
        "Let's see if performance changes if we use Countvectorizer instead of HashingTF."
      ]
    },
    {
      "cell_type": "code",
      "metadata": {
        "id": "rqayUWzTh8T1",
        "colab_type": "code",
        "colab": {}
      },
      "source": [
        "%%time\n",
        "from pyspark.ml.feature import CountVectorizer\n",
        "\n",
        "tokenizer = Tokenizer(inputCol=text, outputCol=\"words\")\n",
        "cv = CountVectorizer(vocabSize=2**16, inputCol=\"words\", outputCol='cv')\n",
        "idf = IDF(inputCol='cv', outputCol=\"features\", minDocFreq=5) #minDocFreq: remove sparse terms\n",
        "label_stringIdx = StringIndexer(inputCol = target, outputCol = \"label\")\n",
        "lr = LogisticRegression(maxIter=100)\n",
        "pipeline = Pipeline(stages=[tokenizer, cv, idf, label_stringIdx, lr])\n",
        "\n",
        "pipelineFit = pipeline.fit(train_set)\n",
        "predictions = pipelineFit.transform(val_set)\n",
        "accuracy = predictions.filter(predictions.label == predictions.prediction).count() / float(val_set.count())\n",
        "roc_auc = evaluator.evaluate(predictions)\n",
        "\n",
        "print \"Accuracy Score: {0:.4f}\".format(accuracy)\n",
        "print \"ROC-AUC: {0:.4f}\".format(roc_auc)"
      ],
      "execution_count": 0,
      "outputs": []
    },
    {
      "cell_type": "markdown",
      "metadata": {
        "id": "unsMqrWUh8T5",
        "colab_type": "text"
      },
      "source": [
        "It looks like using CountVectorizer has improved the performance a little bit."
      ]
    },
    {
      "cell_type": "markdown",
      "metadata": {
        "id": "S6fdFYWbh8T5",
        "colab_type": "text"
      },
      "source": [
        "## N-gram Implementation"
      ]
    },
    {
      "cell_type": "markdown",
      "metadata": {
        "id": "DIHo6LfNh8T7",
        "colab_type": "text"
      },
      "source": [
        "In Scikit-Learn, n-gram implementation is fairly easy. You can define range of n-grams when you call TfIdf Vectorizer. But with Spark, it is a bit more complicated. It does not automatically combine features from different n-grams, so I had to use VectorAssembler in the pipeline, to combine the features I get from each n-grams.\n",
        "\n",
        "I first tried to extract around 16,000 features from unigram, bigram, trigram. This means I will get around 48,000 features in total. Then I implemented Chi Squared feature selection to reduce the features back to 16,000 in total."
      ]
    },
    {
      "cell_type": "code",
      "metadata": {
        "id": "74dVfXPDh8T8",
        "colab_type": "code",
        "colab": {}
      },
      "source": [
        "from pyspark.ml.feature import NGram, VectorAssembler\n",
        "from pyspark.ml.feature import ChiSqSelector\n",
        "\n",
        "def build_trigrams(inputCol=[text,target], n=3):\n",
        "    tokenizer = [Tokenizer(inputCol=text, outputCol=\"words\")]\n",
        "    ngrams = [\n",
        "        NGram(n=i, inputCol=\"words\", outputCol=\"{0}_grams\".format(i))\n",
        "        for i in range(1, n + 1)\n",
        "    ]\n",
        "\n",
        "    cv = [\n",
        "        CountVectorizer(vocabSize=2**14,inputCol=\"{0}_grams\".format(i),\n",
        "            outputCol=\"{0}_tf\".format(i))\n",
        "        for i in range(1, n + 1)\n",
        "    ]\n",
        "    idf = [IDF(inputCol=\"{0}_tf\".format(i), outputCol=\"{0}_tfidf\".format(i), minDocFreq=5) for i in range(1, n + 1)]\n",
        "\n",
        "    assembler = [VectorAssembler(\n",
        "        inputCols=[\"{0}_tfidf\".format(i) for i in range(1, n + 1)],\n",
        "        outputCol=\"rawFeatures\"\n",
        "    )]\n",
        "    label_stringIdx = [StringIndexer(inputCol = target, outputCol = \"label\")]\n",
        "    selector = [ChiSqSelector(numTopFeatures=2**14,featuresCol='rawFeatures', outputCol=\"features\")]\n",
        "    lr = [LogisticRegression(maxIter=100)]\n",
        "    return Pipeline(stages=tokenizer + ngrams + cv + idf+ assembler + label_stringIdx+selector+lr)"
      ],
      "execution_count": 0,
      "outputs": []
    },
    {
      "cell_type": "code",
      "metadata": {
        "id": "0PvPfsnah8T_",
        "colab_type": "code",
        "colab": {}
      },
      "source": [
        "%%time\n",
        "trigram_pipelineFit = build_trigrams().fit(train_set)\n",
        "predictions = trigram_pipelineFit.transform(val_set)\n",
        "accuracy = predictions.filter(predictions.label == predictions.prediction).count() / float(dev_set.count())\n",
        "roc_auc = evaluator.evaluate(predictions)\n",
        "\n",
        "# print accuracy, roc_auc\n",
        "print \"Accuracy Score: {0:.4f}\".format(accuracy)\n",
        "print \"ROC-AUC: {0:.4f}\".format(roc_auc)"
      ],
      "execution_count": 0,
      "outputs": []
    },
    {
      "cell_type": "markdown",
      "metadata": {
        "id": "HOfqaP6Hh8UD",
        "colab_type": "text"
      },
      "source": [
        "Accuracy has improved, but as you might have noticed, fitting the model took 4 hours! And this is mainly because of ChiSqSelector.\n",
        "\n",
        "What if I extract 5,460 features each from unigram, bigram, trigram in the first place, to have around 16,000 features in total in the end, without Chi Squared feature selection?"
      ]
    },
    {
      "cell_type": "code",
      "metadata": {
        "id": "bwmeZX7Jh8UF",
        "colab_type": "code",
        "colab": {}
      },
      "source": [
        "from pyspark.ml.feature import NGram, VectorAssembler\n",
        "\n",
        "def build_ngrams_wocs(inputCol=[text,target], n=3):\n",
        "    tokenizer = [Tokenizer(inputCol=target, outputCol=\"words\")]\n",
        "    ngrams = [\n",
        "        NGram(n=i, inputCol=\"words\", outputCol=\"{0}_grams\".format(i))\n",
        "        for i in range(1, n + 1)\n",
        "    ]\n",
        "\n",
        "    cv = [\n",
        "        CountVectorizer(vocabSize=5460,inputCol=\"{0}_grams\".format(i),\n",
        "            outputCol=\"{0}_tf\".format(i))\n",
        "        for i in range(1, n + 1)\n",
        "    ]\n",
        "    idf = [IDF(inputCol=\"{0}_tf\".format(i), outputCol=\"{0}_tfidf\".format(i), minDocFreq=5) for i in range(1, n + 1)]\n",
        "\n",
        "    assembler = [VectorAssembler(\n",
        "        inputCols=[\"{0}_tfidf\".format(i) for i in range(1, n + 1)],\n",
        "        outputCol=\"features\"\n",
        "    )]\n",
        "    label_stringIdx = [StringIndexer(inputCol = target, outputCol = \"label\")]\n",
        "    lr = [LogisticRegression(maxIter=100)]\n",
        "    return Pipeline(stages=tokenizer + ngrams + cv + idf+ assembler + label_stringIdx+lr)"
      ],
      "execution_count": 0,
      "outputs": []
    },
    {
      "cell_type": "code",
      "metadata": {
        "id": "rDlDLNQqh8UI",
        "colab_type": "code",
        "colab": {}
      },
      "source": [
        "%%time\n",
        "\n",
        "trigramwocs_pipelineFit = build_ngrams_wocs().fit(train_set)\n",
        "predictions_wocs = trigramwocs_pipelineFit.transform(val_set)\n",
        "accuracy_wocs = predictions_wocs.filter(predictions_wocs.label == predictions_wocs.prediction).count() / float(val_set.count())\n",
        "roc_auc_wocs = evaluator.evaluate(predictions_wocs)\n",
        "\n",
        "# print accuracy, roc_auc\n",
        "print \"Accuracy Score: {0:.4f}\".format(accuracy_wocs)\n",
        "print \"ROC-AUC: {0:.4f}\".format(roc_auc_wocs)"
      ],
      "execution_count": 0,
      "outputs": []
    },
    {
      "cell_type": "markdown",
      "metadata": {
        "id": "xWwugZWrh8UM",
        "colab_type": "text"
      },
      "source": [
        "This has given me almost same result, marginally lower, but the difference is in the fourth digit. Considering it takes only 8 mins without ChiSqSelector, I choose the model without ChiSqSelector."
      ]
    },
    {
      "cell_type": "markdown",
      "metadata": {
        "id": "gnHr0BU3h8UO",
        "colab_type": "text"
      },
      "source": [
        "And finally, let's try this model on the final test set."
      ]
    },
    {
      "cell_type": "code",
      "metadata": {
        "id": "5FejwQ_6h8UP",
        "colab_type": "code",
        "colab": {}
      },
      "source": [
        "test_predictions = trigramwocs_pipelineFit.transform(test_set)\n",
        "test_accuracy = test_predictions.filter(test_predictions.label == test_predictions.prediction).count() / float(test_set.count())\n",
        "test_roc_auc = evaluator.evaluate(test_predictions)\n",
        "\n",
        "# print accuracy, roc_auc\n",
        "print \"Accuracy Score: {0:.4f}\".format(test_accuracy)\n",
        "print \"ROC-AUC: {0:.4f}\".format(test_roc_auc)"
      ],
      "execution_count": 0,
      "outputs": []
    },
    {
      "cell_type": "markdown",
      "metadata": {
        "id": "lXDyflE7h8UT",
        "colab_type": "text"
      },
      "source": [
        "Final test accuracy is 81.22%."
      ]
    },
    {
      "cell_type": "code",
      "metadata": {
        "id": "lzPmAFVjh8UU",
        "colab_type": "code",
        "colab": {}
      },
      "source": [
        ""
      ],
      "execution_count": 0,
      "outputs": []
    }
  ]
}